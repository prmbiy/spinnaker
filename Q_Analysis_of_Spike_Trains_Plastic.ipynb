{
 "cells": [
  {
   "cell_type": "markdown",
   "id": "d65874f4",
   "metadata": {
    "id": "d65874f4"
   },
   "source": [
    "# Quantitative Analysis of Spike Trains"
   ]
  },
  {
   "cell_type": "markdown",
   "id": "4dfca25d",
   "metadata": {
    "id": "4dfca25d"
   },
   "source": [
    "This notebook aims to quantify the spikes emitted from different populations of a neural network."
   ]
  },
  {
   "cell_type": "markdown",
   "id": "3c83b484",
   "metadata": {
    "id": "3c83b484"
   },
   "source": [
    "This may be done using one of 3 definitions of Mean firing rate:\n",
    "    1. Temporal Averaging\n",
    "    2. Average over trials\n",
    "    3. Population average"
   ]
  },
  {
   "cell_type": "markdown",
   "id": "a2c47fff",
   "metadata": {
    "id": "a2c47fff"
   },
   "source": [
    "We may also quantify the spike trains using the Coefficient of Variation in the Interspike Interval Distributions"
   ]
  },
  {
   "cell_type": "markdown",
   "id": "fd84fc7f",
   "metadata": {
    "id": "fd84fc7f"
   },
   "source": [
    "### Importing the libraries"
   ]
  },
  {
   "cell_type": "code",
   "execution_count": 2,
   "id": "79960503",
   "metadata": {
    "id": "79960503"
   },
   "outputs": [],
   "source": [
    "import spynnaker8 as p\n",
    "import pyNN.spiNNaker as sim\n",
    "import time\n",
    "import matplotlib.pyplot as plt\n",
    "import numpy as np\n",
    "import statistics as st\n",
    "from numpy import *\n",
    "%matplotlib inline"
   ]
  },
  {
   "cell_type": "markdown",
   "id": "7dBcIWXhCrVg",
   "metadata": {
    "id": "7dBcIWXhCrVg"
   },
   "source": [
    "## Model"
   ]
  },
  {
   "cell_type": "code",
   "execution_count": 3,
   "id": "jmoJ4mhHCttZ",
   "metadata": {
    "id": "jmoJ4mhHCttZ"
   },
   "outputs": [],
   "source": [
    "model = p.Izhikevich\n",
    "a_tonic = 0.02\n",
    "b_tonic = 0.2\n",
    "c_tonic = -65.0\n",
    "d_tonic = 6.0\n",
    "v_init_tonic = -65.0\n",
    "u_init_tonic = b_tonic * v_init_tonic\n",
    "current_Pulse = 0\n",
    "tau_ex = 1.7\n",
    "tau_inh = 2.5\n",
    "cell_params = {'a': a_tonic, \n",
    "               'b': b_tonic, \n",
    "               'c': c_tonic, \n",
    "               'd': d_tonic, \n",
    "               'tau_syn_E': tau_ex, \n",
    "               'tau_syn_I': tau_inh, \n",
    "               'i_offset': current_Pulse}\n",
    "initial_values = {'v': v_init_tonic, 'u': u_init_tonic}"
   ]
  },
  {
   "cell_type": "markdown",
   "id": "2d7add9b",
   "metadata": {
    "id": "2d7add9b"
   },
   "source": [
    "### Setting up the spiNNaker simulator"
   ]
  },
  {
   "cell_type": "code",
   "execution_count": 4,
   "id": "41516afa",
   "metadata": {
    "id": "41516afa",
    "outputId": "a259a785-978f-4708-e3a0-bec07bec464f"
   },
   "outputs": [
    {
     "name": "stderr",
     "output_type": "stream",
     "text": [
      "2021-07-14 15:00:59 INFO: Read cfg files: /home/bbpnrsoa/sPyNNakerGit/SpiNNFrontEndCommon/spinn_front_end_common/interface/spinnaker.cfg, /home/bbpnrsoa/sPyNNakerGit/sPyNNaker/spynnaker/pyNN/spynnaker.cfg, /home/bbpnrsoa/.spynnaker.cfg\n",
      "2021-07-14 15:00:59 INFO: Will search these locations for binaries: /home/bbpnrsoa/sPyNNakerGit/SpiNNFrontEndCommon/spinn_front_end_common/common_model_binaries : /home/bbpnrsoa/sPyNNakerGit/sPyNNaker/spynnaker/pyNN/model_binaries\n",
      "2021-07-14 15:00:59 WARNING: /home/bbpnrsoa/sPyNNakerGit/reports has 11 old reports that have not been closed\n",
      "2021-07-14 15:00:59 WARNING: A timestep was entered that has forced sPyNNaker to automatically slow the simulation down from real time by a factor of 10. To remove this automatic behaviour, please enter a timescaleFactor value in your .spynnaker.cfg\n",
      "2021-07-14 15:00:59 INFO: Setting time scale factor to 10.\n",
      "2021-07-14 15:00:59 INFO: Setting machine time step to 100 micro-seconds.\n"
     ]
    },
    {
     "name": "stdout",
     "output_type": "stream",
     "text": [
      "['/home/bbpnrsoa/sPyNNakerGit/SpiNNFrontEndCommon/spinn_front_end_common/interface/spinnaker.cfg', '/home/bbpnrsoa/sPyNNakerGit/sPyNNaker/spynnaker/pyNN/spynnaker.cfg', '/home/bbpnrsoa/.spynnaker.cfg']\n",
      "1000.0\n"
     ]
    }
   ],
   "source": [
    "start_time = time.time()\n",
    "sim.setup(timestep = 0.1)\n",
    "TotalDuration = 1000.0\n",
    "TotalDuration2 = 1000.0\n",
    "time_resol = 0.1\n",
    "TimeInt = 1.0 / time_resol\n",
    "TotalDataPoints = int(TotalDuration * TimeInt)\n",
    "rate_Poisson_Inp_base = 25\n",
    "print(TotalDuration)"
   ]
  },
  {
   "cell_type": "markdown",
   "id": "1444bd01",
   "metadata": {
    "id": "1444bd01"
   },
   "source": [
    "### Defining the number of cells in each population"
   ]
  },
  {
   "cell_type": "code",
   "execution_count": 5,
   "id": "691e43ca",
   "metadata": {
    "id": "691e43ca"
   },
   "outputs": [],
   "source": [
    "# Number of Cells in each population\n",
    "NumCells_exc = 80\n",
    "NumCells_inh = 20\n",
    "NumCells_extSource = 40"
   ]
  },
  {
   "cell_type": "markdown",
   "id": "fdfcead5",
   "metadata": {
    "id": "fdfcead5"
   },
   "source": [
    "### Defining the connection parameters"
   ]
  },
  {
   "cell_type": "code",
   "execution_count": 6,
   "id": "a42ef8b4",
   "metadata": {
    "id": "a42ef8b4"
   },
   "outputs": [],
   "source": [
    "# Synaptic Connection params\n",
    "conn_delay = 1.0\n",
    "conn_weights = 5.0\n",
    "conn_prob = 0.232"
   ]
  },
  {
   "cell_type": "markdown",
   "id": "0f5367b1",
   "metadata": {
    "id": "0f5367b1"
   },
   "source": [
    "### Parameters for Excitatory neurons"
   ]
  },
  {
   "cell_type": "code",
   "execution_count": 7,
   "id": "78265ab6",
   "metadata": {
    "id": "78265ab6"
   },
   "outputs": [],
   "source": [
    "# Excitatory cell params\n",
    "exc_a_tonic = 0.02\n",
    "exc_b_tonic = 0.2\n",
    "exc_c_tonic = -65.0\n",
    "exc_d_tonic = 6.0\n",
    "exc_v_init_tonic = -65.0\n",
    "exc_u_init_tonic = exc_b_tonic * exc_v_init_tonic"
   ]
  },
  {
   "cell_type": "markdown",
   "id": "37997a06",
   "metadata": {
    "id": "37997a06"
   },
   "source": [
    "### Parameters for Inhibitory neurons"
   ]
  },
  {
   "cell_type": "code",
   "execution_count": 8,
   "id": "c646b85a",
   "metadata": {
    "id": "c646b85a"
   },
   "outputs": [],
   "source": [
    "# Inhibitory cell params\n",
    "inh_a_tonic = 0.1\n",
    "inh_b_tonic = 0.2\n",
    "inh_c_tonic = -65.0\n",
    "inh_d_tonic = 6.0\n",
    "inh_v_init_tonic = -70.0\n",
    "inh_u_init = inh_b_tonic * inh_v_init_tonic"
   ]
  },
  {
   "cell_type": "markdown",
   "id": "b70b5d87",
   "metadata": {
    "id": "b70b5d87"
   },
   "source": [
    "### Time constants for Excitatory and Inhibitory neurons"
   ]
  },
  {
   "cell_type": "code",
   "execution_count": 9,
   "id": "0ca33f4c",
   "metadata": {
    "id": "0ca33f4c"
   },
   "outputs": [],
   "source": [
    "# Time constants\n",
    "tau_exc = 1.7\n",
    "tau_inh = 2.5"
   ]
  },
  {
   "cell_type": "code",
   "execution_count": 10,
   "id": "be3ca777",
   "metadata": {
    "id": "be3ca777"
   },
   "outputs": [],
   "source": [
    "# DC bias current\n",
    "current_Pulse = 3.0"
   ]
  },
  {
   "cell_type": "markdown",
   "id": "57e54f83",
   "metadata": {
    "id": "57e54f83"
   },
   "source": [
    "### Defining Cell Parameters"
   ]
  },
  {
   "cell_type": "code",
   "execution_count": 11,
   "id": "524e5c2f",
   "metadata": {
    "id": "524e5c2f"
   },
   "outputs": [],
   "source": [
    "# Setting up the Cell Parameters\n",
    "exc_cell_params = {\n",
    "'a': exc_a_tonic, 'b': exc_b_tonic, \n",
    "'c': exc_c_tonic, 'd': exc_d_tonic,\n",
    "#'v_init': exc_v_init_tonic, 'u_init': exc_u_init_tonic,\n",
    "'tau_syn_E': tau_exc, 'tau_syn_I': tau_inh,\n",
    "'i_offset': current_Pulse\n",
    "               }\n",
    "\n",
    "inh_cell_params = {\n",
    "    'a' : inh_a_tonic, 'b': inh_b_tonic,\n",
    "    \n",
    "    'c': inh_c_tonic, 'd': inh_d_tonic,\n",
    "    #'v_init' : inh_v_init_tonic,'u_init' : inh_u_init,\n",
    "    'tau_syn_E' : tau_exc, 'tau_syn_I':tau_inh,\n",
    "    'i_offset' : current_Pulse\n",
    "               }"
   ]
  },
  {
   "cell_type": "markdown",
   "id": "3208505e",
   "metadata": {
    "id": "3208505e"
   },
   "source": [
    "### Defining the neuron Populations"
   ]
  },
  {
   "cell_type": "code",
   "execution_count": 12,
   "id": "e62d1cb8",
   "metadata": {
    "id": "e62d1cb8"
   },
   "outputs": [],
   "source": [
    "# Defining the populations\n",
    "external_spike_source_pop = p.Population(NumCells_extSource,p.SpikeSourcePoisson,{'rate': rate_Poisson_Inp_base,'duration': 1000,'start': 100},label='spike_source_poisson')\n",
    "exc_pop = p.Population(NumCells_exc, p.Izhikevich(**exc_cell_params), label='exc_pop')\n",
    "inh_pop = p.Population(NumCells_inh, p.Izhikevich(**inh_cell_params), label='inh_pop')"
   ]
  },
  {
   "cell_type": "markdown",
   "id": "9f1992bd",
   "metadata": {
    "id": "9f1992bd"
   },
   "source": [
    "### Defining the Projections between populations"
   ]
  },
  {
   "cell_type": "code",
   "execution_count": 13,
   "id": "a935af50",
   "metadata": {
    "id": "a935af50"
   },
   "outputs": [],
   "source": [
    "# Defining the Projections between the various populations\n",
    "#external to excitatory\n",
    "Proj00 = p.Projection(external_spike_source_pop, exc_pop, p.FixedProbabilityConnector(p_connect=0.5),p.StaticSynapse(weight=conn_weights, delay=conn_delay), receptor_type='excitatory')\n",
    "\n",
    "#external to inhibitory\n",
    "Proj01 = p.Projection(external_spike_source_pop, inh_pop, p.FixedProbabilityConnector(p_connect=0.5),p.StaticSynapse(weight=conn_weights, delay=conn_delay), receptor_type='excitatory')\n",
    "\n",
    "# #excitatory to inhibitory\n",
    "# Proj02 = p.Projection(exc_pop, inh_pop, p.FixedProbabilityConnector(p_connect=conn_prob),p.StaticSynapse(weight=conn_weights, delay=conn_delay), receptor_type='excitatory')\n",
    "\n",
    "# #inhibitory to excitatory\n",
    "# Proj03 = p.Projection(inh_pop, exc_pop, p.FixedProbabilityConnector(p_connect=conn_prob),p.StaticSynapse(weight=conn_weights, delay=conn_delay), receptor_type='inhibitory')\n",
    "\n",
    "# #inhibitory to inhibitory\n",
    "# Proj04 = p.Projection(inh_pop, inh_pop, p.FixedProbabilityConnector(p_connect=conn_prob),p.StaticSynapse(weight=conn_weights, delay=conn_delay), receptor_type='inhibitory')\n",
    "\n",
    "# #excitatory to excitatory\n",
    "# Proj05 = p.Projection(exc_pop, exc_pop, p.FixedProbabilityConnector(p_connect=conn_prob),p.StaticSynapse(weight=conn_weights, delay=conn_delay), receptor_type='excitatory')"
   ]
  },
  {
   "cell_type": "markdown",
   "id": "L-j7df_PERyk",
   "metadata": {
    "id": "L-j7df_PERyk"
   },
   "source": [
    "### STDP MODEL"
   ]
  },
  {
   "cell_type": "code",
   "execution_count": 14,
   "id": "7iAjUA0UEUG0",
   "metadata": {
    "id": "7iAjUA0UEUG0"
   },
   "outputs": [],
   "source": [
    "stdp_model = sim.STDPMechanism(timing_dependence = p.SpikePairRule(tau_plus=20.0, \n",
    "                                                                     tau_minus=20.0, \n",
    "                                                                     A_plus=0.045, \n",
    "                                                                     A_minus=0.045),\n",
    "                               weight_dependence = p.AdditiveWeightDependence(w_min=0, \n",
    "                                                                                w_max=10)\n",
    "                              )\n",
    "\n",
    "\n",
    "# plastic_projection = sim.Projection(pre_pop, post_pop, sim.FixedProbabilityConnector(p_connect=0.5), synapse_type=stdp_model)"
   ]
  },
  {
   "cell_type": "code",
   "execution_count": 15,
   "id": "EpdszzRqEkXC",
   "metadata": {
    "id": "EpdszzRqEkXC"
   },
   "outputs": [],
   "source": [
    "#excitatory to inhibitory\n",
    "Proj02 = p.Projection(exc_pop, inh_pop, p.FixedProbabilityConnector(p_connect=0.5), synapse_type=stdp_model)\n",
    "\n",
    "#inhibitory to excitatory\n",
    "Proj03 = p.Projection(inh_pop, exc_pop, p.FixedProbabilityConnector(p_connect=0.5), synapse_type=stdp_model)\n",
    "\n",
    "#inhibitory to inhibitory\n",
    "Proj04 = p.Projection(inh_pop, inh_pop, p.FixedProbabilityConnector(p_connect=0.5), synapse_type=stdp_model)\n",
    "\n",
    "#excitatory to excitatory\n",
    "Proj05 = p.Projection(exc_pop, exc_pop, sim.FixedProbabilityConnector(p_connect=0.5), synapse_type=stdp_model)"
   ]
  },
  {
   "cell_type": "markdown",
   "id": "5a01067e",
   "metadata": {
    "id": "5a01067e"
   },
   "source": [
    "### Running the simulator and Recording Spikes and menbrane potential"
   ]
  },
  {
   "cell_type": "code",
   "execution_count": 16,
   "id": "e5c2dbe3",
   "metadata": {
    "id": "e5c2dbe3",
    "outputId": "3250f21f-7236-4b03-f0b7-7ee0b6a7d21f"
   },
   "outputs": [
    {
     "name": "stderr",
     "output_type": "stream",
     "text": [
      "2021-07-14 15:01:52 INFO: Resetting\n",
      "2021-07-14 15:01:52 WARNING: /home/bbpnrsoa/sPyNNakerGit/reports has 12 old reports that have not been closed\n",
      "2021-07-14 15:01:52 INFO: Starting execution process\n",
      "2021-07-14 15:01:52 INFO: Simulating for 10000 0.1ms timesteps using a hardware timestep of 1000us\n",
      "Adding Splitter selectors where appropriate\n",
      "|0%                          50%                         100%|\n",
      " ============================================================\n",
      "2021-07-14 15:01:52 INFO: Time 0:00:00.009780 taken by SpynnakerSplitterSelector\n",
      "Adding delay extensions as required\n",
      "|0%                          50%                         100%|\n",
      " ============================================================\n",
      "2021-07-14 15:01:52 INFO: Time 0:00:00.011989 taken by DelaySupportAdder\n",
      "2021-07-14 15:01:55 INFO: Time 0:00:02.938656 taken by SpallocMaxMachineGenerator\n",
      "Preallocating resources for Extra Monitor support vertices\n",
      "|0%                          50%                         100%|\n",
      " ============================================================\n",
      "2021-07-14 15:02:03 INFO: Time 0:00:08.138071 taken by PreAllocateResourcesForExtraMonitorSupport\n",
      "Partitioning graph vertices\n",
      "|0%                          50%                         100%|\n",
      " ============================================================\n",
      "Partitioning graph edges\n",
      "|0%                          50%                         100%|\n",
      " ============================================================\n",
      "2021-07-14 15:02:08 INFO: Time 0:00:05.111269 taken by SpYNNakerSplitterPartitioner\n",
      "Created spalloc job 6040043\n",
      "2021-07-14 15:02:08 INFO: Created spalloc job 6040043\n",
      "Waiting for board power commands to complete.\n",
      "2021-07-14 15:02:08 INFO: Waiting for board power commands to complete.\n",
      "2021-07-14 15:02:17 INFO: Time 0:00:08.942369 taken by SpallocAllocator\n",
      "2021-07-14 15:02:17 INFO: Creating transceiver for 10.11.194.1\n",
      "2021-07-14 15:02:17 INFO: Working out if machine is booted\n",
      "2021-07-14 15:02:21 INFO: Attempting to boot machine\n",
      "2021-07-14 15:02:27 INFO: Found board with version [Version: SC&MP 3.4.1 at SpiNNaker:0:0:0 (built Thu Feb 11 15:36:44 2021)]\n",
      "2021-07-14 15:02:27 INFO: Machine communication successful\n",
      "2021-07-14 15:02:27 INFO: Detected a machine on IP address 10.11.194.1 which has 837 cores and 114.0 links\n",
      "2021-07-14 15:02:27 INFO: Time 0:00:09.938535 taken by MachineGenerator\n",
      "Generating partitioner report\n",
      "|0%                          50%                         100%|\n",
      " ============================================================\n",
      "2021-07-14 15:02:27 INFO: Time 0:00:00.014238 taken by PartitionerReport\n",
      "2021-07-14 15:02:27 INFO: Time 0:00:00.000327 taken by NetworkSpecificationReport\n",
      "Allocating virtual identifiers\n",
      "|0%                          50%                         100%|\n",
      " ============================================================\n",
      "2021-07-14 15:02:27 INFO: Time 0:00:00.032110 taken by MallocBasedChipIDAllocator\n",
      "Inserting extra monitors into graphs\n",
      "|0%                          50%                         100%|\n",
      " ============================================================\n",
      "2021-07-14 15:02:27 INFO: Time 0:00:00.025327 taken by InsertExtraMonitorVerticesToGraphs\n",
      "Writing the board chip report\n",
      "|0%                          50%                         100%|\n",
      " ============================================================\n",
      "2021-07-14 15:02:27 INFO: Time 0:00:00.004554 taken by BoardChipReport\n",
      "Getting number of keys required by each edge using application graph\n",
      "|0%                          50%                         100%|\n",
      " ============================================================\n",
      "2021-07-14 15:02:27 INFO: Time 0:00:00.027936 taken by EdgeToNKeysMapper\n",
      "2021-07-14 15:02:27 INFO: The time scale factor could be reduced to 4.985\n",
      "2021-07-14 15:02:27 INFO: Time 0:00:00.001240 taken by LocalTDMABuilder\n",
      "Placing graph vertices via spreading over an entire machine\n",
      "|0%                          50%                         100%|\n",
      " ============================================================\n",
      "2021-07-14 15:02:27 INFO: Time 0:00:00.014345 taken by SpreaderPlacer\n",
      "Inserting edges between vertices which require FR speed up functionality.\n",
      "|0%                          50%                         100%|\n",
      " ==============================2021-07-14 15:02:27 INFO: Time 0:00:00.031397 taken by InsertEdgesToExtraMonitorFunctionality\n",
      "Generating routing tables for data in system processes\n",
      "|0%                          50%                         100%|\n",
      " ============================================================\n",
      "2021-07-14 15:02:27 INFO: Time 0:00:00.006479 taken by SystemMulticastRoutingGenerator\n",
      "Generating fixed router routes\n",
      "|0%                          50%                         100%|\n",
      " ============================================================\n",
      "2021-07-14 15:02:27 INFO: Time 0:00:00.004521 taken by FixedRouteRouter\n",
      "Generating placement report\n",
      "|0%                          50%                         100%|\n",
      " ============================================================\n",
      "Generating placement by core report\n",
      "|0%                          50%                         100%|\n",
      " ============================================================\n",
      "2021-07-14 15:02:27 INFO: Time 0:00:00.059278 taken by PlacerReportWithApplicationGraph\n",
      "Routing\n",
      "|0%                          50%                         100%|\n",
      " ============================================================\n",
      "\n",
      "2021-07-14 15:02:28 INFO: Time 0:00:00.051756 taken by NerRouteTrafficAware\n",
      "Discovering tags\n",
      "|0%                          50%                         100%|\n",
      " ============================================================\n",
      "Allocating tags\n",
      "|0%                          50%                         100%|\n",
      " ============================================================\n",
      "2021-07-14 15:02:28 INFO: Time 0:00:00.032975 taken by BasicTagAllocator\n",
      "Reporting Tags\n",
      "|0%                          50%                         100%|\n",
      " ============================================================\n",
      "2021-07-14 15:02:28 INFO: Time 0:00:00.008913 taken by TagReport\n",
      "Getting constraints for machine graph\n",
      "|0%                          50%                         100%|\n",
      " ============================================================\n",
      "2021-07-14 15:02:28 INFO: Time 0:00:00.032806 taken by ProcessPartitionConstraints\n",
      "Calculating zones\n",
      "|0%                          50%                         100%|\n",
      " ============================================================\n",
      "Allocating routing keys\n",
      "|0%                          50%                         100%|\n",
      " ============================================================\n",
      "2021-07-14 15:02:28 INFO: Time 0:00:00.025700 taken by ZonedRoutingInfoAllocator\n",
      "Generating Routing info report\n",
      "|0%                          50%                         100%|\n",
      " ============================================================\n",
      "2021-07-14 15:02:28 INFO: Time 0:00:00.013090 taken by routingInfoReports\n",
      "Generating routing tables\n",
      "|0%                          50%                         100%|\n",
      " ============================================================\n",
      "2021-07-14 15:02:28 INFO: Time 0:00:00.022572 taken by BasicRoutingTableGenerator\n",
      "2021-07-14 15:02:28 INFO: Time 0:00:00.000656 taken by RouterCollisionPotentialReport\n",
      "Finding executable start types\n",
      "|0%                          50%                         100%|\n",
      " ============================================================\n",
      "2021-07-14 15:02:28 INFO: Time 0:00:00.029656 taken by LocateExecutableStartType\n",
      "Initialising buffers\n",
      "|0%                          50%                         100%|\n",
      " ============================================================\n",
      "2021-07-14 15:02:28 INFO: Time 0:00:00.028842 taken by BufferManagerCreator\n",
      "Allocating SDRAM for SDRAM outgoing egde partitions\n",
      "|0%                          50%                         100%|\n",
      " ============================================================\n",
      "2021-07-14 15:02:28 INFO: Time 0:00:00.022615 taken by SDRAMOutgoingPartitionAllocator\n",
      "Generating data specifications\n",
      "|0%                          50%                         100%|\n",
      " ============================================================\n",
      "2021-07-14 15:02:28 INFO: Time 0:00:00.111562 taken by SpynnakerDataSpecificationWriter\n",
      "Preparing Routing Tables\n",
      "|0%                          50%                         100%|\n",
      " ============================================================\n",
      "2021-07-14 15:02:28 INFO: Time 0:00:00.028339 taken by RoutingSetup\n",
      "Finding binaries\n",
      "|0%                          50%                         100%|\n",
      " ============================================================\n",
      "2021-07-14 15:02:28 INFO: Time 0:00:00.025126 taken by GraphBinaryGatherer\n",
      "Running pair routing table compression on chip\n",
      "|0%                          50%                         100%|\n",
      " ============================================================\n",
      "\n",
      "2021-07-14 15:02:31 INFO: Time 0:00:03.429550 taken by PairOnChipRouterCompression\n",
      "Generating Router table report\n",
      "|0%                          50%                         100%|\n",
      " ============================================================\n",
      "2021-07-14 15:02:31 INFO: Time 0:00:00.012286 taken by unCompressedRoutingTableReports\n",
      "loading fixed routes\n",
      "|0%                          50%                         100%|\n",
      " ============================================================\n",
      "2021-07-14 15:02:31 INFO: Time 0:00:00.044929 taken by LoadFixedRoutes\n",
      "Executing data specifications and loading data for system vertices using Java\n",
      "|0%                          50%                         100%|\n",
      " ============================================================\n",
      "2021-07-14 15:02:33 INFO: Time 0:00:01.146989 taken by HostExecuteSystemDataSpecification\n",
      "Loading system executables onto the machine\n",
      "|0%                          50%                         100%|\n",
      " ============================================================\n",
      "2021-07-14 15:02:38 INFO: Time 0:00:05.757869 taken by LoadSystemExecutableImages\n",
      "2021-07-14 15:02:38 INFO: Time 0:00:00.001867 taken by TagsFromMachineReport\n",
      "Clearing tags\n",
      "|0%                          50%                         100%|\n",
      " ============================================================\n",
      "Loading Tags\n",
      "|0%                          50%                         100%|\n",
      " ============================================================\n",
      "2021-07-14 15:02:38 INFO: Time 0:00:00.019631 taken by TagsLoader\n",
      "Executing data specifications and loading data for application vertices using Java\n",
      "|0%                          50%                         100%|\n",
      " ============================================================\n",
      "2021-07-14 15:02:39 INFO: Time 0:00:01.089075 taken by HostExecuteApplicationDataSpecification\n",
      "Preparing to Expand Synapses\n",
      "|0%                          50%                         100%|\n",
      " ============================================================\n",
      "Expanding Synapses\n",
      "|0%                          50%                         100%|\n",
      " ============================================================\n",
      "\n",
      "\n",
      "2021-07-14 15:02:44 INFO: Time 0:00:04.016355 taken by SynapseExpander\n",
      "Running bitfield generation on chip\n",
      "|0%                          50%                         100%|\n",
      " ============================================================\n",
      "\n",
      "\n",
      "2021-07-14 15:02:47 INFO: Time 0:00:03.352071 taken by OnChipBitFieldGenerator\n",
      "Finalising Retrieved Connections\n",
      "|0%                          50%                         100%|\n",
      " ============================================================\n",
      "2021-07-14 15:02:47 INFO: Time 0:00:00.029097 taken by FinishConnectionHolders\n",
      "Reading Routing Tables from Machine\n",
      "|0%                          50%                         100%|\n",
      " ============================================================\n",
      "2021-07-14 15:02:47 INFO: Time 0:00:00.107923 taken by ReadRoutingTablesFromMachine\n",
      "Generating compressed router table report\n",
      "|0%                          50%                         100%|\n",
      " ============================================================\n",
      "2021-07-14 15:02:47 INFO: Time 0:00:00.011000 taken by compressedRoutingTableReports\n",
      "Generating comparison of router table report\n",
      "|0%                          50%                         100%|\n",
      " ============================================================\n",
      "2021-07-14 15:02:47 INFO: Time 0:00:00.010045 taken by comparisonOfRoutingTablesReport\n",
      "Generating Routing summary report\n",
      "|0%                          50%                         100%|\n",
      " ============================================================\n",
      "2021-07-14 15:02:47 INFO: Time 0:00:00.025287 taken by CompressedRouterSummaryReport\n",
      "Reading Routing Tables from Machine\n",
      "|0%                          50%                         100%|\n",
      " ============================================================\n",
      "2021-07-14 15:02:47 INFO: Time 0:00:00.011025 taken by RoutingTableFromMachineReport\n",
      "Writing fixed route report\n",
      "|0%                          50%                         100%|\n",
      " ============================================================\n",
      "2021-07-14 15:02:47 INFO: Time 0:00:00.041493 taken by FixedRouteFromMachineReport\n",
      "Loading executables onto the machine\n",
      "|0%                          50%                         100%|\n",
      " ============================================================\n",
      "2021-07-14 15:02:54 INFO: Time 0:00:07.144083 taken by LoadApplicationExecutableImages\n",
      "2021-07-14 15:02:54 INFO: Running for 1 steps for a total of 1000.0ms\n",
      "2021-07-14 15:02:54 INFO: Run 1 of 1\n",
      "Generating SDRAM usage report\n",
      "|0%                          50%                         100%|\n",
      " ============================================================\n",
      "2021-07-14 15:02:54 INFO: Time 0:00:00.051639 taken by SdramUsageReportPerChip\n",
      "2021-07-14 15:02:54 INFO: creating live event connection database in /home/bbpnrsoa/sPyNNakerGit/reports/2021-07-14-15-00-59-908900/run_1/input_output_database.db\n",
      "Creating graph description database\n",
      "|0%                          50%                         100%|\n",
      " ============================================================\n",
      "2021-07-14 15:02:54 INFO: Time 0:00:00.054280 taken by DatabaseInterface\n",
      "2021-07-14 15:02:54 INFO: ** Notifying external sources that the database is ready for reading **\n",
      "2021-07-14 15:02:54 INFO: Time 0:00:00.000802 taken by CreateNotificationProtocol\n",
      "Getting provenance data from machine graph\n",
      "|0%                          50%                         100%|\n",
      " ============================================================\n",
      "Getting provenance data from application graph\n",
      "|0%                          50%                         100%|\n",
      " ============================================================\n",
      "2021-07-14 15:02:54 INFO: Time 0:00:00.077291 taken by GraphProvenanceGatherer\n",
      "Waiting for cores to be either in PAUSED or READY state\n",
      "|0%                          50%                         100%|\n",
      " ============================================================\n",
      "Updating run time\n",
      "|0%                          50%                         100%|\n",
      " ============================================================\n",
      "2021-07-14 15:02:55 INFO: Time 0:00:00.042750 taken by ChipRuntimeUpdater\n",
      "2021-07-14 15:02:55 INFO: *** Running simulation... *** \n",
      "Loading buffers\n",
      "|0%                          50%                         100%|\n",
      " ============================================================\n",
      "2021-07-14 15:02:55 INFO: ** Awaiting for a response from an external source to state its ready for the simulation to start **\n",
      "2021-07-14 15:02:55 INFO: ** Sending start / resume message to external sources to state the simulation has started or resumed. **\n",
      "2021-07-14 15:02:55 INFO: ** Awaiting for a response from an external source to state its ready for the simulation to start **\n",
      "2021-07-14 15:02:55 INFO: Application started; waiting 10.1s for it to stop\n",
      "2021-07-14 15:03:05 INFO: ** Sending pause / stop message to external sources to state the simulation has been paused or stopped. **\n",
      "2021-07-14 15:03:05 INFO: Time 0:00:10.207690 taken by ApplicationRunner\n",
      "Extracting IOBUF from the machine\n",
      "|0%                          50%                         100%|\n",
      " ============================================================\n",
      "2021-07-14 15:03:05 INFO: Time 0:00:00.040657 taken by ChipIOBufExtractor\n",
      "clearing IOBUF from the machine\n",
      "|0%                          50%                         100%|\n",
      " ============================================================\n",
      "2021-07-14 15:03:05 INFO: Time 0:00:00.009592 taken by ChipIOBufClearer\n",
      "Extracting buffers from the last run\n",
      "|0%                          50%                         100%|\n",
      " ============================================================\n",
      "\n",
      "2021-07-14 15:03:09 INFO: Time 0:00:04.046321 taken by BufferExtractor\n",
      "2021-07-14 15:03:09 INFO: Time 0:00:00.000207 taken by FinaliseTimingData\n",
      "Getting provenance data\n",
      "|0%                          50%                         100%|\n",
      " ============================================================\n",
      "2021-07-14 15:03:09 INFO: Time 0:00:00.037214 taken by PlacementsProvenanceGatherer\n",
      "2021-07-14 15:03:09 INFO: Time 0:00:00.000680 taken by RedundantPacketCountReport\n",
      "Getting Router Provenance\n",
      "|0%                          50%                         100%|\n",
      " ============================================================\n",
      "2021-07-14 15:03:09 INFO: Time 0:00:00.053168 taken by RouterProvenanceGatherer\n",
      "Getting profile data\n",
      "|0%                          50%                         100%|\n",
      " ============================================================\n",
      "2021-07-14 15:03:09 INFO: Time 0:00:00.036779 taken by ProfileDataGatherer\n",
      "2021-07-14 15:03:09 WARNING: spinnaker_get_data is non-standard PyNN and therefore may not be portable to other simulators. Nor do we guarantee that this function will exist in future releases.\n",
      "Getting spikes for spike_source_poisson1\n",
      "|0%                          50%                         100%|\n",
      " ============================================================\n",
      "Getting spikes for exc_pop2\n",
      "|0%                          50%                         100%|\n",
      " ============================================================\n",
      "Getting spikes for inh_pop3\n",
      "|0%                          50%                         100%|\n",
      " ============================================================\n",
      "Getting v for exc_pop2\n",
      "|0%                          50%                         100%|\n",
      " ============================================================\n",
      "Getting v for inh_pop3\n",
      "|0%                          50%                         100%|\n",
      " ============================================================\n"
     ]
    },
    {
     "name": "stdout",
     "output_type": "stream",
     "text": [
      "Repitition number 0:\n",
      "7224\n",
      "2592\n",
      "908\n",
      "[[  0.   16.2]\n",
      " [  0.  105.6]\n",
      " [  0.  113.2]\n",
      " ...\n",
      " [ 79.  824.1]\n",
      " [ 79.  824.7]\n",
      " [ 79.  969.8]]\n"
     ]
    }
   ],
   "source": [
    "NumberOfRepititions = 1\n",
    "external_spike_source_Reps = []\n",
    "exc_spikes_Reps = []\n",
    "inh_spikes_Reps = []\n",
    "exc_voltage_Reps = []\n",
    "inh_voltage_Reps = []\n",
    "\n",
    "for i in range(NumberOfRepititions):\n",
    "    # Defining the populations\n",
    "    p.reset()\n",
    "    external_spike_source_pop = p.Population(NumCells_extSource,p.SpikeSourcePoisson,{'rate': rate_Poisson_Inp_base,'duration': 1000,'start': 100},label='spike_source_poisson')\n",
    "    exc_pop = p.Population(NumCells_exc, p.Izhikevich(**exc_cell_params), label='exc_pop')\n",
    "    inh_pop = p.Population(NumCells_inh, p.Izhikevich(**inh_cell_params), label='inh_pop')\n",
    "    \n",
    "    # Defining the Projections between the various populations\n",
    "    #external to excitatory\n",
    "    Proj00 = p.Projection(external_spike_source_pop, exc_pop, p.FixedProbabilityConnector(p_connect=0.5), p.StaticSynapse(weight=conn_weights, delay=conn_delay), receptor_type='excitatory')\n",
    "\n",
    "    #external to inhibitory\n",
    "    Proj01 = p.Projection(external_spike_source_pop, inh_pop, p.FixedProbabilityConnector(p_connect=0.5), p.StaticSynapse(weight=conn_weights, delay=conn_delay), receptor_type='excitatory')\n",
    "\n",
    "    #excitatory to inhibitory\n",
    "    Proj02 = p.Projection(exc_pop, inh_pop, p.FixedProbabilityConnector(p_connect=0.5), synapse_type=stdp_model)\n",
    "\n",
    "    #inhibitory to excitatory\n",
    "    Proj03 = p.Projection(inh_pop, exc_pop, p.FixedProbabilityConnector(p_connect=0.5), synapse_type=stdp_model)\n",
    "\n",
    "    #inhibitory to inhibitory\n",
    "    Proj04 = p.Projection(inh_pop, inh_pop, p.FixedProbabilityConnector(p_connect=0.5), synapse_type=stdp_model)\n",
    "\n",
    "    #excitatory to excitatory\n",
    "    Proj05 = p.Projection(exc_pop, exc_pop, sim.FixedProbabilityConnector(p_connect=0.5), synapse_type=stdp_model)\n",
    "\n",
    "\n",
    "    # Record spikes from Ext Source, Spikes AND menbrance voltage from the excitatory and inhibitory populations\n",
    "    external_spike_source_pop.record(\"spikes\")\n",
    "    exc_pop.record((\"spikes\", \"v\"))\n",
    "    inh_pop.record((\"spikes\", \"v\"))\n",
    "    p.run(TotalDuration)\n",
    "\n",
    "    # Retrieve data from simulation\n",
    "    external_spike_source = external_spike_source_pop.spinnaker_get_data(\"spikes\")\n",
    "    exc_spikes = exc_pop.spinnaker_get_data(\"spikes\")\n",
    "    inh_spikes = inh_pop.spinnaker_get_data(\"spikes\")\n",
    "    exc_voltage = exc_pop.spinnaker_get_data(\"v\")\n",
    "    inh_voltage = inh_pop.spinnaker_get_data(\"v\")\n",
    "    \n",
    "    print(f\"Repitition number {i}:\")\n",
    "    print(len(exc_spikes))\n",
    "    print(len(inh_spikes))\n",
    "    print(len(external_spike_source))\n",
    "    print(exc_spikes)\n",
    "    \n",
    "    external_spike_source_Reps.append(external_spike_source)\n",
    "    exc_spikes_Reps.append(exc_spikes)\n",
    "    inh_spikes_Reps.append(inh_spikes)\n",
    "    exc_voltage_Reps.append(exc_voltage)\n",
    "    inh_voltage_Reps.append(inh_voltage)"
   ]
  },
  {
   "cell_type": "markdown",
   "id": "da99692f",
   "metadata": {
    "id": "da99692f"
   },
   "source": [
    "### Analyzing the spikes"
   ]
  },
  {
   "cell_type": "code",
   "execution_count": 17,
   "id": "4ad2da8a",
   "metadata": {
    "id": "4ad2da8a",
    "outputId": "f7edfb90-68b7-4ed2-de14-9dda7744b683"
   },
   "outputs": [
    {
     "name": "stdout",
     "output_type": "stream",
     "text": [
      "7224\n",
      "2592\n",
      "908\n",
      "...................\n"
     ]
    }
   ],
   "source": [
    "for i in range(NumberOfRepititions):\n",
    "    print(len(exc_spikes_Reps[i]))\n",
    "    print(len(inh_spikes_Reps[i]))\n",
    "    print(len(external_spike_source_Reps[i]))\n",
    "    print('...................')"
   ]
  },
  {
   "cell_type": "markdown",
   "id": "104ef16c",
   "metadata": {
    "id": "104ef16c"
   },
   "source": [
    "There are #NumberOfRepitions experiment repititions, for each of these, we calculate 3 arrays:"
   ]
  },
  {
   "cell_type": "markdown",
   "id": "f8822899",
   "metadata": {
    "id": "f8822899"
   },
   "source": [
    "#### Please note the difference between exc_spike_count_Reps and exc_spikes_Reps"
   ]
  },
  {
   "cell_type": "markdown",
   "id": "8f9fc081",
   "metadata": {
    "id": "8f9fc081"
   },
   "source": [
    "#### exc_spike_count_Reps is the count for each neuron, the latter is the Array Generated by SpiNNaker on the ith Repitition"
   ]
  },
  {
   "cell_type": "code",
   "execution_count": 18,
   "id": "19d3aa7f",
   "metadata": {
    "id": "19d3aa7f"
   },
   "outputs": [],
   "source": [
    "exc_spike_count_Reps = []\n",
    "inh_spike_count_Reps = []\n",
    "external_spike_count_Reps = []\n",
    "TotalDuration = TotalDuration2/1000.0      # Total duration in seconds"
   ]
  },
  {
   "cell_type": "markdown",
   "id": "c0236c64",
   "metadata": {
    "id": "c0236c64"
   },
   "source": [
    "### Mean Firing Rate - Temporal Averaging"
   ]
  },
  {
   "cell_type": "code",
   "execution_count": 19,
   "id": "6632b49c",
   "metadata": {
    "id": "6632b49c",
    "outputId": "a7e5f642-6acb-4c75-ff8d-1bcdf6efce78"
   },
   "outputs": [
    {
     "name": "stdout",
     "output_type": "stream",
     "text": [
      "80\n",
      "[186, 72, 131, 58, 79, 138, 75, 175, 95, 79, 92, 97, 79, 94, 90, 97, 106, 76, 72, 98, 88, 138, 69, 97, 76, 83, 95, 96, 68, 84, 89, 77, 144, 77, 123, 89, 85, 68, 80, 132, 82, 62, 77, 112, 81, 88, 71, 81, 98, 77, 87, 98, 95, 98, 79, 89, 79, 89, 86, 91, 91, 84, 69, 84, 84, 72, 134, 79, 70, 89, 81, 80, 85, 84, 97, 66, 84, 82, 71, 71]\n",
      "..........................\n"
     ]
    }
   ],
   "source": [
    "for i in range(NumberOfRepititions):\n",
    "    exc_spikes = exc_spikes_Reps[i]            # Retrieve the exc_spikes array for the ith repitition\n",
    "    exc_neuron_spike_count = []                # Count of spikes emitted by each of the neurons in the population\n",
    "\n",
    "    for i in range (NumCells_exc):             # Initialize list\n",
    "        exc_neuron_spike_count.append(0)\n",
    "\n",
    "    for i in range (len(exc_spikes)):   \n",
    "        neuron = int(exc_spikes[i][0])\n",
    "        exc_neuron_spike_count[neuron] += 1\n",
    "        \n",
    "    exc_spike_count_Reps.append(exc_neuron_spike_count)\n",
    "    \n",
    "    exc_neuron_mfr = []                        # Mean firing rate: Spikes/second for each of the neuron\n",
    "\n",
    "    for i in range (NumCells_exc):\n",
    "        exc_neuron_mfr.append(exc_neuron_spike_count[i]/TotalDuration)\n",
    "\n",
    "\n",
    "for i in range (NumberOfRepititions):\n",
    "    print(len(exc_spike_count_Reps[i]))\n",
    "    print(exc_spike_count_Reps[i])\n",
    "    print(\"..........................\")"
   ]
  },
  {
   "cell_type": "code",
   "execution_count": 20,
   "id": "5f80a0fa",
   "metadata": {
    "id": "5f80a0fa",
    "outputId": "4f9daf61-7641-4b2b-b270-d23ce6651ac2"
   },
   "outputs": [
    {
     "name": "stdout",
     "output_type": "stream",
     "text": [
      "20\n",
      "[136, 135, 128, 120, 129, 142, 125, 135, 140, 124, 137, 137, 117, 129, 116, 125, 130, 119, 128, 140]\n",
      "..........................\n"
     ]
    }
   ],
   "source": [
    "for i in range (NumberOfRepititions):\n",
    "    \n",
    "    inh_spikes = inh_spikes_Reps[i]            # The inh_spikes generated at the ith repitition\n",
    "    \n",
    "    inh_neuron_spike_count = []                # Count of spikes emitted by each of the neurons in the population\n",
    "\n",
    "    for i in range (NumCells_inh):             # Initialize list\n",
    "        inh_neuron_spike_count.append(0)\n",
    "\n",
    "    for i in range (len(inh_spikes)):   \n",
    "        neuron = int(inh_spikes[i][0])\n",
    "        inh_neuron_spike_count[neuron] += 1\n",
    "\n",
    "    inh_spike_count_Reps.append(inh_neuron_spike_count)\n",
    "    \n",
    "    inh_neuron_mfr = []                        # Mean firing rate: Spikes/second for each of the neuron\n",
    "\n",
    "    for i in range (NumCells_inh):\n",
    "        inh_neuron_mfr.append(inh_neuron_spike_count[i]/TotalDuration)\n",
    "\n",
    "#     print(inh_neuron_spike_count)\n",
    "#     print(inh_neuron_mfr)\n",
    "for i in range (NumberOfRepititions):\n",
    "    print(len(inh_spike_count_Reps[i]))\n",
    "    print(inh_spike_count_Reps[i])\n",
    "    print(\"..........................\")"
   ]
  },
  {
   "cell_type": "code",
   "execution_count": 21,
   "id": "68e54871",
   "metadata": {
    "id": "68e54871",
    "outputId": "996586db-ae80-4f4c-9335-88690059b0f5"
   },
   "outputs": [
    {
     "name": "stdout",
     "output_type": "stream",
     "text": [
      "40\n",
      "[28, 26, 26, 24, 17, 17, 22, 26, 27, 17, 30, 18, 24, 25, 22, 22, 33, 22, 17, 23, 21, 11, 18, 27, 29, 24, 20, 25, 22, 21, 24, 16, 22, 29, 27, 25, 18, 17, 29, 17]\n",
      "..........................\n"
     ]
    }
   ],
   "source": [
    "for i in range (NumberOfRepititions):\n",
    "    \n",
    "    # External spike Source generated at the ith repitition\n",
    "    external_spike_source = external_spike_source_Reps[i]\n",
    "    \n",
    "    external_neuron_spike_count = []                # Count of spikes emitted by each of the neurons in the population\n",
    "\n",
    "    for i in range (NumCells_extSource):             # Initialize list\n",
    "        external_neuron_spike_count.append(0)\n",
    "\n",
    "    for i in range (len(external_spike_source)):   \n",
    "        neuron = int(external_spike_source[i][0])\n",
    "        external_neuron_spike_count[neuron] += 1\n",
    "\n",
    "    external_spike_count_Reps.append(external_neuron_spike_count)\n",
    "    \n",
    "    external_neuron_mfr = []                        # Mean firing rate: Spikes/second for each of the neuron\n",
    "\n",
    "    for i in range (NumCells_extSource):\n",
    "        external_neuron_mfr.append(external_neuron_spike_count[i]/TotalDuration)\n",
    "\n",
    "#     print(external_neuron_spike_count)\n",
    "#     print(external_neuron_mfr)\n",
    "\n",
    "for i in range (NumberOfRepititions):\n",
    "    print(len(external_spike_count_Reps[i]))\n",
    "    print(external_spike_count_Reps[i])\n",
    "    print(\"..........................\")"
   ]
  },
  {
   "cell_type": "code",
   "execution_count": 22,
   "id": "f77a2362",
   "metadata": {
    "id": "f77a2362"
   },
   "outputs": [],
   "source": [
    "# Average across all Neurons\n",
    "exc_mfr_mean = (np.mean(exc_neuron_mfr))\n",
    "inh_mfr_mean = (np.mean(inh_neuron_mfr))\n",
    "external_mfr_mean = (np.mean(external_neuron_mfr))"
   ]
  },
  {
   "cell_type": "markdown",
   "id": "46793507",
   "metadata": {
    "id": "46793507"
   },
   "source": [
    "#### Plotting MFR (average for neurons across population"
   ]
  },
  {
   "cell_type": "code",
   "execution_count": 23,
   "id": "7b8fa35f",
   "metadata": {
    "id": "7b8fa35f",
    "outputId": "79336995-90ee-487e-f492-6ebacc479a8a"
   },
   "outputs": [
    {
     "data": {
      "image/png": "[encoded data removed]",
      "text/plain": [
       "<Figure size 432x288 with 1 Axes>"
      ]
     },
     "metadata": {
      "needs_background": "light"
     },
     "output_type": "display_data"
    }
   ],
   "source": [
    "x_axis = ['Excitatory','Inhibitory','External']\n",
    "y_axis = [exc_mfr_mean, inh_mfr_mean, external_mfr_mean]\n",
    "barlist = plt.bar(x_axis,y_axis,width = 0.35)\n",
    "barlist[0].set_color('red')\n",
    "barlist[1].set_color('blue')\n",
    "barlist[2].set_color('g')\n",
    "plt.title('Mean Fire Rate Using Temporal Averaging')\n",
    "plt.ylabel('Mean Fire Rate')\n",
    "plt.savefig('mean_fire_rate_temporal.png')\n",
    "plt.show()"
   ]
  },
  {
   "cell_type": "markdown",
   "id": "07856e99",
   "metadata": {
    "id": "07856e99"
   },
   "source": [
    "### Printing spikes emitted by excitatory population"
   ]
  },
  {
   "cell_type": "code",
   "execution_count": 24,
   "id": "d4ae5d29",
   "metadata": {
    "id": "d4ae5d29",
    "outputId": "61a4ea4f-22de-4d85-da81-7e320577cd86"
   },
   "outputs": [
    {
     "name": "stdout",
     "output_type": "stream",
     "text": [
      "[[  0.   16.2]\n",
      " [  0.  105.6]\n",
      " [  0.  113.2]\n",
      " ...\n",
      " [ 79.  824.1]\n",
      " [ 79.  824.7]\n",
      " [ 79.  969.8]]\n",
      "7224\n"
     ]
    },
    {
     "data": {
      "text/plain": [
       "[<matplotlib.lines.Line2D at 0x7fd82d016700>]"
      ]
     },
     "execution_count": 24,
     "metadata": {},
     "output_type": "execute_result"
    },
    {
     "data": {
      "image/png": "[encoded data removed]",
      "text/plain": [
       "<Figure size 432x288 with 1 Axes>"
      ]
     },
     "metadata": {
      "needs_background": "light"
     },
     "output_type": "display_data"
    }
   ],
   "source": [
    "print(exc_spikes)\n",
    "print(len(exc_spikes))\n",
    "plt.figure(1)\n",
    "plt.xlabel('Time')\n",
    "plt.ylabel('Neuron number')\n",
    "plt.title('Excitatory Spike Train graph')\n",
    "plt.savefig('excitatory_raster.png')\n",
    "plt.plot(exc_spikes[:, 1], exc_spikes[:, 0], '.',color = 'red')\n",
    "#need to put x and y axis names \n",
    "#need to plot graphs for inhibitory and external source"
   ]
  },
  {
   "cell_type": "markdown",
   "id": "5ae4bb4c",
   "metadata": {
    "id": "5ae4bb4c"
   },
   "source": [
    "### Printing spikes emitted by Inhibitory population"
   ]
  },
  {
   "cell_type": "code",
   "execution_count": 25,
   "id": "c45fc45e",
   "metadata": {
    "id": "c45fc45e",
    "outputId": "b15e109e-d55e-4129-9755-7a112eccd17a"
   },
   "outputs": [
    {
     "data": {
      "text/plain": [
       "[<matplotlib.lines.Line2D at 0x7fd82cfb68b0>]"
      ]
     },
     "execution_count": 25,
     "metadata": {},
     "output_type": "execute_result"
    },
    {
     "data": {
      "image/png": "[encoded data removed]",
      "text/plain": [
       "<Figure size 432x288 with 1 Axes>"
      ]
     },
     "metadata": {
      "needs_background": "light"
     },
     "output_type": "display_data"
    }
   ],
   "source": [
    "plt.figure(2)\n",
    "plt.xlabel('Time')\n",
    "plt.ylabel('Neuron number')\n",
    "plt.title('Inhibitory Spike Train graph')\n",
    "plt.savefig('inhibitory_raster.png')\n",
    "plt.plot(inh_spikes[:, 1], inh_spikes[:, 0], '.', color = 'blue')"
   ]
  },
  {
   "cell_type": "markdown",
   "id": "9adfeac1",
   "metadata": {
    "id": "9adfeac1"
   },
   "source": [
    "### Printing spikes emitted by external population"
   ]
  },
  {
   "cell_type": "code",
   "execution_count": 26,
   "id": "f8042067",
   "metadata": {
    "id": "f8042067",
    "outputId": "143187bb-c6d4-4547-d379-26ff0e3e9a8c"
   },
   "outputs": [
    {
     "data": {
      "text/plain": [
       "[<matplotlib.lines.Line2D at 0x7fd82cef66a0>]"
      ]
     },
     "execution_count": 26,
     "metadata": {},
     "output_type": "execute_result"
    },
    {
     "data": {
      "image/png": "[encoded data removed]",
      "text/plain": [
       "<Figure size 432x288 with 1 Axes>"
      ]
     },
     "metadata": {
      "needs_background": "light"
     },
     "output_type": "display_data"
    }
   ],
   "source": [
    "plt.figure(3)\n",
    "plt.xlabel('Time')\n",
    "plt.ylabel('Neuron Number')\n",
    "plt.title('External Spike Train graph')\n",
    "plt.savefig('external_raster.png')\n",
    "plt.plot(external_spike_source[:, 1], external_spike_source[:, 0], '.',color = 'green')"
   ]
  },
  {
   "cell_type": "markdown",
   "id": "c887f246",
   "metadata": {
    "id": "c887f246"
   },
   "source": [
    "### Excitatory Menbrane Potential"
   ]
  },
  {
   "cell_type": "code",
   "execution_count": 27,
   "id": "d8b318eb",
   "metadata": {
    "id": "d8b318eb",
    "outputId": "d0b77eb1-328e-43d0-cd4d-a95e26b4da5c"
   },
   "outputs": [
    {
     "name": "stdout",
     "output_type": "stream",
     "text": [
      "(800000, 3)\n"
     ]
    },
    {
     "data": {
      "text/plain": [
       "[<matplotlib.lines.Line2D at 0x7fd82ce82400>]"
      ]
     },
     "execution_count": 27,
     "metadata": {},
     "output_type": "execute_result"
    },
    {
     "data": {
      "image/png": "[encoded data removed]",
      "text/plain": [
       "<Figure size 432x288 with 1 Axes>"
      ]
     },
     "metadata": {
      "needs_background": "light"
     },
     "output_type": "display_data"
    }
   ],
   "source": [
    "print(shape(exc_voltage))\n",
    "exc_mem_voltage = np.reshape(exc_voltage[:, 2], [NumCells_exc, TotalDataPoints])\n",
    "avgsignaltcr = np.mean(exc_mem_voltage, axis=0)\n",
    "plt.figure(5)\n",
    "plt.title('Excitatory Membrane Potential')\n",
    "plt.xlabel('Time in Milli seconds')\n",
    "plt.ylabel('voltage in Milli volts')\n",
    "plt.savefig('excitatory_membrance_voltage.png')\n",
    "plt.plot([x for x in range(TotalDataPoints)], avgsignaltcr,color = 'red')\n",
    "plt.plot(exc_mem_voltage[:, 1], exc_mem_voltage[:, 2],)"
   ]
  },
  {
   "cell_type": "markdown",
   "id": "d721f186",
   "metadata": {
    "id": "d721f186"
   },
   "source": [
    "### Inhibitory Menbrane Potential"
   ]
  },
  {
   "cell_type": "code",
   "execution_count": 28,
   "id": "559f25c5",
   "metadata": {
    "id": "559f25c5",
    "outputId": "c1278a7a-f80f-4ea8-98d2-2db9338cf293"
   },
   "outputs": [
    {
     "name": "stdout",
     "output_type": "stream",
     "text": [
      "[[-70.         -69.70477295 -69.42623901 ... -53.22860718 -51.76144409\n",
      "  -50.25137329]\n",
      " [-70.         -69.70477295 -69.42623901 ... -52.28442383 -51.24954224\n",
      "  -50.199646  ]\n",
      " [-70.         -69.70477295 -69.42623901 ... -62.62374878 -62.62451172\n",
      "  -62.67263794]\n",
      " ...\n",
      " [-70.         -69.70477295 -69.42623901 ... -64.71517944 -64.71969604\n",
      "  -64.75180054]\n",
      " [-70.         -69.70477295 -69.42623901 ... -56.89477539 -56.31115723\n",
      "  -55.78042603]\n",
      " [-70.         -69.70477295 -69.42623901 ... -60.66357422 -60.59960938\n",
      "  -60.5736084 ]]\n"
     ]
    },
    {
     "data": {
      "text/plain": [
       "[<matplotlib.lines.Line2D at 0x7fd82ce4e610>]"
      ]
     },
     "execution_count": 28,
     "metadata": {},
     "output_type": "execute_result"
    },
    {
     "data": {
      "image/png": "[encoded data removed]",
      "text/plain": [
       "<Figure size 432x288 with 1 Axes>"
      ]
     },
     "metadata": {
      "needs_background": "light"
     },
     "output_type": "display_data"
    }
   ],
   "source": [
    "inh_mem_voltage = np.reshape(inh_voltage[:, 2], [NumCells_inh, TotalDataPoints])\n",
    "print(inh_mem_voltage)\n",
    "avgsignaltcr1 = np.mean(inh_mem_voltage, axis=0)\n",
    "plt.figure(6)\n",
    "plt.title('Inhibitory Membrane Potential')\n",
    "plt.xlabel('Time in Milli seconds')\n",
    "plt.ylabel('voltage in Milli volts')\n",
    "plt.savefig('inhibitory_membrane_voltage.png')\n",
    "plt.plot([x for x in range(TotalDataPoints)], avgsignaltcr1, color = 'blue')"
   ]
  },
  {
   "cell_type": "markdown",
   "id": "d3d73bdf",
   "metadata": {
    "id": "d3d73bdf"
   },
   "source": [
    "## PSTH Calculation and graph"
   ]
  },
  {
   "cell_type": "code",
   "execution_count": 29,
   "id": "61eeb5f9",
   "metadata": {
    "id": "61eeb5f9"
   },
   "outputs": [],
   "source": [
    "simulation_time_step = 0.1\n",
    "bin_size = 1\n",
    "per_bin_points = int(bin_size/simulation_time_step) # Number of points inside each bin, here bin is of duration 1ms.\n",
    "Total_bins = TotalDataPoints//per_bin_points\n",
    "\n",
    "# spike_count_list = []\n",
    "# bin_list = []\n",
    "# for i in range(Total_bins + 1):\n",
    "#     spike_count_list.append(0)\n",
    "# for i in range(len(exc_spikes)):\n",
    "#     time_instance = int(exc_spikes[i][1]/bin_size)\n",
    "#     spike_count_list[time_instance] += 1\n",
    "# for i in range(Total_bins + 1):\n",
    "#     bin_list.append(i)"
   ]
  },
  {
   "cell_type": "code",
   "execution_count": null,
   "id": "a55216b4",
   "metadata": {
    "id": "a55216b4"
   },
   "outputs": [],
   "source": [
    "# plt.figure(1)\n",
    "# plt.plot(bin_list,spike_count_list,color = 'red')\n",
    "# plt.xlabel('Bins')\n",
    "# plt.ylabel('Spikes')\n",
    "# plt.title('Excitatory PSTH graph')\n",
    "# plt.show()"
   ]
  },
  {
   "cell_type": "code",
   "execution_count": null,
   "id": "3f25781d",
   "metadata": {
    "id": "3f25781d"
   },
   "outputs": [],
   "source": [
    "# inh_spike_count_list = []\n",
    "# inh_bin_list = []\n",
    "# for i in range(Total_bins+1):\n",
    "#     inh_spike_count_list.append(0)\n",
    "# for i in range(len(inh_spikes)):\n",
    "#     inh_time_instance = int(inh_spikes[i][1] / bin_size)\n",
    "#     inh_spike_count_list[inh_time_instance] += 1\n",
    "# for i in range(Total_bins+1):\n",
    "#     inh_bin_list.append(i)"
   ]
  },
  {
   "cell_type": "code",
   "execution_count": null,
   "id": "bef8b882",
   "metadata": {
    "id": "bef8b882"
   },
   "outputs": [],
   "source": [
    "# plt.figure(2)\n",
    "# plt.plot(inh_bin_list,inh_spike_count_list,color = 'blue')\n",
    "# plt.xlabel('Bins')\n",
    "# plt.ylabel('Spikes')\n",
    "# plt.title('Inhibitory PSTH graph')\n",
    "# plt.show()"
   ]
  },
  {
   "cell_type": "code",
   "execution_count": null,
   "id": "091c64ba",
   "metadata": {
    "id": "091c64ba"
   },
   "outputs": [],
   "source": [
    "# external_spike_count_list = []\n",
    "# external_bin_list = []\n",
    "# for i in range(Total_bins + 1):\n",
    "#     external_spike_count_list.append(0)\n",
    "# for i in range(len(external_spike_source)):\n",
    "#     external_time_instance = int(external_spike_source[i][1]/bin_size)\n",
    "#     external_spike_count_list[external_time_instance] += 1\n",
    "# for i in range(Total_bins + 1):\n",
    "#     external_bin_list.append(i)"
   ]
  },
  {
   "cell_type": "code",
   "execution_count": null,
   "id": "f0d2f08e",
   "metadata": {
    "id": "f0d2f08e"
   },
   "outputs": [],
   "source": [
    "# plt.figure(3)\n",
    "# plt.plot(external_bin_list,external_spike_count_list,color = 'green')\n",
    "# plt.xlabel('Bins')\n",
    "# plt.ylabel('Spikes')\n",
    "# plt.title('External PSTH graph')\n",
    "# plt.show()"
   ]
  },
  {
   "cell_type": "markdown",
   "id": "fba7ec2b",
   "metadata": {
    "id": "fba7ec2b"
   },
   "source": [
    "### Mean Firing Rate: Average over trials:"
   ]
  },
  {
   "cell_type": "code",
   "execution_count": 30,
   "id": "828a78ba",
   "metadata": {
    "id": "828a78ba",
    "outputId": "06424c8d-85fa-4bd9-cb23-a128957fa663"
   },
   "outputs": [
    {
     "data": {
      "image/png": "[encoded data removed]",
      "text/plain": [
       "<Figure size 432x288 with 1 Axes>"
      ]
     },
     "metadata": {
      "needs_background": "light"
     },
     "output_type": "display_data"
    },
    {
     "data": {
      "image/png": "[encoded data removed]",
      "text/plain": [
       "<Figure size 432x288 with 1 Axes>"
      ]
     },
     "metadata": {
      "needs_background": "light"
     },
     "output_type": "display_data"
    },
    {
     "data": {
      "image/png": "[encoded data removed]",
      "text/plain": [
       "<Figure size 432x288 with 1 Axes>"
      ]
     },
     "metadata": {
      "needs_background": "light"
     },
     "output_type": "display_data"
    }
   ],
   "source": [
    "spike_count_list = []            # Initially stores counts of excitatory spikes in each bin ACROSS ALL REPS\n",
    "inh_spike_count_list = []        # Initially stores counts of inhibitory spikes in each bin ACROSS ALL REPS\n",
    "external_spike_count_list = []   # Initially stores counts of external spikes in each bin ACROSS ALL REPS\n",
    "\n",
    "bin_list = []\n",
    "for i in range(Total_bins + 1):\n",
    "    spike_count_list.append(0)\n",
    "for i in range(Total_bins + 1):\n",
    "    inh_spike_count_list.append(0)\n",
    "for i in range(Total_bins + 1):\n",
    "    external_spike_count_list.append(0)\n",
    "    \n",
    "for i in range(Total_bins + 1):\n",
    "    bin_list.append(i)\n",
    "    \n",
    "for j in range(NumberOfRepititions):\n",
    "    exc_spikes = exc_spikes_Reps[j]\n",
    "    for i in range(len(exc_spikes)):\n",
    "        time_instance = int(exc_spikes[i][1]/bin_size)\n",
    "        spike_count_list[time_instance] += 1\n",
    "    \n",
    "    inh_spikes = inh_spikes_Reps[j]\n",
    "    for i in range(len(inh_spikes)):\n",
    "        time_instance = int(inh_spikes[i][1]/bin_size)\n",
    "        inh_spike_count_list[time_instance] += 1\n",
    "    \n",
    "    external_spike_source = external_spike_source_Reps[j]\n",
    "    for i in range(len(external_spike_source)):\n",
    "        time_instance = int(external_spike_source[i][1]/bin_size)\n",
    "        external_spike_count_list[time_instance] += 1\n",
    "    \n",
    "for i in range(Total_bins + 1):  # Now, using the count stored, changing the value to the book's formula\n",
    "    spike_count_list[i] /= NumberOfRepititions\n",
    "    spike_count_list[i] /= NumCells_exc\n",
    "    inh_spike_count_list[i] /= NumberOfRepititions\n",
    "    inh_spike_count_list[i] /= NumCells_exc\n",
    "    external_spike_count_list[i] /= NumberOfRepititions\n",
    "    external_spike_count_list[i] /= NumCells_exc\n",
    "\n",
    "plt.figure(1)\n",
    "plt.plot(bin_list, spike_count_list, color = 'red')\n",
    "plt.xlabel('Bins')\n",
    "plt.ylabel('Spikes')\n",
    "plt.title('Excitatory PSTH graph')\n",
    "plt.show()\n",
    "\n",
    "plt.figure(2)\n",
    "plt.plot(bin_list, inh_spike_count_list, color = 'blue')\n",
    "plt.xlabel('Bins')\n",
    "plt.ylabel('Spikes')\n",
    "plt.title('Inhibitory PSTH graph')\n",
    "plt.show()\n",
    "\n",
    "plt.figure(3)\n",
    "plt.plot(bin_list, external_spike_count_list, color = 'green')\n",
    "plt.xlabel('Bins')\n",
    "plt.ylabel('Spikes')\n",
    "plt.title('External PSTH graph')\n",
    "plt.show()\n",
    "\n",
    "# Mean firing rate (instantaneous, over several trials) in Fires/ms"
   ]
  },
  {
   "cell_type": "markdown",
   "id": "a222e355",
   "metadata": {
    "id": "a222e355"
   },
   "source": [
    "### Ignore below"
   ]
  },
  {
   "cell_type": "code",
   "execution_count": null,
   "id": "9d5780e0",
   "metadata": {
    "id": "9d5780e0"
   },
   "outputs": [],
   "source": [
    "# mean_fire_rate_avg_exc = []\n",
    "# mean_fire_rate_avg_inh = []\n",
    "# mean_fire_rate_avg_external = []\n",
    "\n",
    "# for i in range(NumCells_exc):\n",
    "#     sum_across_reps = 0\n",
    "#     for j in range(NumberOfRepititions):\n",
    "#         sum_across_reps += exc_spike_count_Reps[j][i]    # Add the spikes produced by neuron #i at the #jth Rep\n",
    "\n",
    "#     mean_fire_rate_avg_exc.append(sum_across_reps / NumberOfRepititions)\n",
    "\n",
    "# print(mean_fire_rate_avg_exc)\n",
    "# # print(np.mean(mean_fire_rate_avg_exc))\n",
    "\n",
    "# for i in range(NumCells_inh):\n",
    "#     sum_across_reps = 0\n",
    "#     for j in range(NumberOfRepititions):\n",
    "#         sum_across_reps += inh_spike_count_Reps[j][i]    # Add the spikes produced by neuron #i at the #jth Rep\n",
    "\n",
    "#     mean_fire_rate_avg_inh.append(sum_across_reps / NumberOfRepititions)\n",
    "\n",
    "# print(mean_fire_rate_avg_inh)\n",
    "# # print(np.mean(mean_fire_rate_avg_inh))\n",
    "\n",
    "# for i in range(NumCells_extSource):\n",
    "#     sum_across_reps = 0\n",
    "#     for j in range(NumberOfRepititions):\n",
    "#         sum_across_reps += external_spike_count_Reps[j][i] # Add the spikes produced by neuron #i at the #jth Rep\n",
    "        \n",
    "#     mean_fire_rate_avg_external.append(sum_across_reps / NumberOfRepititions)\n",
    "\n",
    "# print(mean_fire_rate_avg_external)\n",
    "# # print(np.mean(mean_fire_rate_avg_external))\n",
    "        \n",
    "# # mean_fire_rate_avg_exc1 = len(exc_spikes)/(NumCells_exc)\n",
    "# # print(mean_fire_rate_avg_exc1)\n",
    "# # mean_fire_rate_avg_inh1 = len(inh_spikes)/(NumCells_inh)\n",
    "# # print(mean_fire_rate_avg_inh1)\n",
    "# # mean_fire_rate_avg_external1 = len(external_spike_source)/(NumCells_extSource)\n",
    "# # print(mean_fire_rate_avg_external1)"
   ]
  },
  {
   "cell_type": "code",
   "execution_count": null,
   "id": "56cffc6c",
   "metadata": {
    "id": "56cffc6c"
   },
   "outputs": [],
   "source": [
    "# x_axis = ['Excitatory','Inhibitory','External']\n",
    "# y_axis = [mean_fire_rate_avg_exc,mean_fire_rate_avg_inh,mean_fire_rate_avg_external]\n",
    "# barlist = plt.bar(x_axis,y_axis,width = 0.35)\n",
    "# barlist[0].set_color('red')\n",
    "# barlist[1].set_color('blue')\n",
    "# barlist[2].set_color('g')\n",
    "# plt.title('Rate as Spike Density')\n",
    "# plt.savefig('Average_of_trials.png')\n",
    "# plt.ylabel('Mean Fire Rate')\n",
    "# plt.show()"
   ]
  },
  {
   "cell_type": "markdown",
   "id": "361c2cfe",
   "metadata": {
    "id": "361c2cfe"
   },
   "source": [
    "### Mean Firing Rate: Population Average:"
   ]
  },
  {
   "cell_type": "code",
   "execution_count": null,
   "id": "472067e6",
   "metadata": {
    "id": "472067e6"
   },
   "outputs": [],
   "source": [
    "mean_fire_rate_pop_avg_exc = len(exc_spikes)/(NumCells_exc)\n",
    "mean_fire_rate_pop_avg_inh = len(inh_spikes)/(NumCells_inh)\n",
    "mean_fire_rate_pop_avg_external = len(external_spike_source)/(NumCells_extSource)\n",
    "print(mean_fire_rate_pop_avg_exc)\n",
    "print(mean_fire_rate_pop_avg_inh)\n",
    "print(mean_fire_rate_pop_avg_external)"
   ]
  },
  {
   "cell_type": "code",
   "execution_count": null,
   "id": "90023d5c",
   "metadata": {
    "id": "90023d5c"
   },
   "outputs": [],
   "source": [
    "x_axis = ['Excitatory','Inhibitory','External']\n",
    "y_axis = [mean_fire_rate_pop_avg_exc,mean_fire_rate_pop_avg_inh,mean_fire_rate_pop_avg_external]\n",
    "barlist = plt.bar(x_axis,y_axis,width = 0.35)\n",
    "barlist[0].set_color('red')\n",
    "barlist[1].set_color('blue')\n",
    "barlist[2].set_color('g')\n",
    "plt.title('Rate as a population average')\n",
    "plt.savefig('Population_Average.png')\n",
    "plt.ylabel('Mean Fire Rate')\n",
    "plt.show()"
   ]
  },
  {
   "cell_type": "markdown",
   "id": "b1a47d65",
   "metadata": {
    "id": "b1a47d65"
   },
   "source": [
    "## Calculating Coefficient of Variation in the ISI"
   ]
  },
  {
   "cell_type": "markdown",
   "id": "964a298f",
   "metadata": {
    "id": "964a298f"
   },
   "source": [
    "### For Excitatory population"
   ]
  },
  {
   "cell_type": "code",
   "execution_count": 31,
   "id": "5c11fba8",
   "metadata": {
    "id": "5c11fba8"
   },
   "outputs": [
    {
     "name": "stdout",
     "output_type": "stream",
     "text": [
      "2.4347175287217153\n"
     ]
    }
   ],
   "source": [
    "neuron_spike = []\n",
    "for i in range(NumCells_exc):\n",
    "    neuron_spike.append([])\n",
    "    \n",
    "for i in range(len(exc_spikes)):\n",
    "    neuron = exc_spikes[i][0]\n",
    "    neuron = int(neuron)\n",
    "    neuron_spike[neuron].append(exc_spikes[i][1])\n",
    "\n",
    "exc_cvs = []\n",
    "for i in range(NumCells_exc):\n",
    "    exc_cvs.append(0)\n",
    "\n",
    "for i in range(NumCells_exc):\n",
    "    distributions = []\n",
    "    for j in range(1, len(neuron_spike[i])):\n",
    "        distributions.append(neuron_spike[i][j] - neuron_spike[i][j-1])\n",
    "    \n",
    "    m = st.mean(distributions)\n",
    "    std = st.stdev(distributions)\n",
    "    cv = std / m\n",
    "    exc_cvs[i] = cv\n",
    "\n",
    "exc_cv_mean = st.mean(exc_cvs)\n",
    "print(exc_cv_mean)    "
   ]
  },
  {
   "cell_type": "markdown",
   "id": "6caf3bd3",
   "metadata": {
    "id": "6caf3bd3"
   },
   "source": [
    "### For inhibitory population"
   ]
  },
  {
   "cell_type": "code",
   "execution_count": 32,
   "id": "ef45fba6",
   "metadata": {
    "id": "ef45fba6"
   },
   "outputs": [
    {
     "name": "stdout",
     "output_type": "stream",
     "text": [
      "1.1726287481369018\n"
     ]
    }
   ],
   "source": [
    "neuron_spike = []\n",
    "for i in range(NumCells_inh):\n",
    "    neuron_spike.append([])\n",
    "    \n",
    "for i in range(len(inh_spikes)):\n",
    "    neuron = inh_spikes[i][0]\n",
    "    neuron = int(neuron)\n",
    "    neuron_spike[neuron].append(inh_spikes[i][1])\n",
    "\n",
    "inh_cvs = []\n",
    "for i in range(NumCells_inh):\n",
    "    inh_cvs.append(0)\n",
    "\n",
    "for i in range(NumCells_inh):\n",
    "    distributions = []\n",
    "    for j in range(1, len(neuron_spike[i])):\n",
    "        distributions.append(neuron_spike[i][j] - neuron_spike[i][j-1])\n",
    "    \n",
    "    m = st.mean(distributions)\n",
    "    std = st.stdev(distributions)\n",
    "    cv = std / m\n",
    "    inh_cvs[i] = cv\n",
    "\n",
    "inh_cv_mean = st.mean(inh_cvs)\n",
    "print(inh_cv_mean)  "
   ]
  },
  {
   "cell_type": "markdown",
   "id": "f7e70d11",
   "metadata": {
    "id": "f7e70d11"
   },
   "source": [
    "### For External population"
   ]
  },
  {
   "cell_type": "code",
   "execution_count": 33,
   "id": "30157902",
   "metadata": {
    "id": "30157902"
   },
   "outputs": [
    {
     "name": "stdout",
     "output_type": "stream",
     "text": [
      "0.952476019311496\n"
     ]
    }
   ],
   "source": [
    "neuron_spike = []\n",
    "for i in range(NumCells_extSource):\n",
    "    neuron_spike.append([])\n",
    "    \n",
    "for i in range(len(external_spike_source)):\n",
    "    neuron = external_spike_source[i][0]\n",
    "    neuron = int(neuron)\n",
    "    neuron_spike[neuron].append(external_spike_source[i][1])\n",
    "\n",
    "external_cvs = []\n",
    "for i in range(NumCells_extSource):\n",
    "    external_cvs.append(0)\n",
    "\n",
    "for i in range(NumCells_extSource):\n",
    "    distributions = []\n",
    "    for j in range(1, len(neuron_spike[i])):\n",
    "        distributions.append(neuron_spike[i][j] - neuron_spike[i][j-1])\n",
    "    \n",
    "    m = st.mean(distributions)\n",
    "    std = st.stdev(distributions)\n",
    "    cv = std / m\n",
    "    external_cvs[i] = cv\n",
    "\n",
    "\n",
    "external_cv_mean = st.mean(external_cvs)\n",
    "print(external_cv_mean)"
   ]
  },
  {
   "cell_type": "code",
   "execution_count": 34,
   "id": "155df5b9",
   "metadata": {
    "id": "155df5b9"
   },
   "outputs": [
    {
     "data": {
      "image/png": "[encoded data removed]",
      "text/plain": [
       "<Figure size 432x288 with 1 Axes>"
      ]
     },
     "metadata": {
      "needs_background": "light"
     },
     "output_type": "display_data"
    }
   ],
   "source": [
    "x_axis = ['Excitatory','Inhibitory','External']\n",
    "y_axis = [exc_cv_mean, inh_cv_mean, external_cv_mean]\n",
    "barlist = plt.bar(x_axis, y_axis, width = 0.35, align='center')\n",
    "barlist[0].set_color('red')\n",
    "barlist[1].set_color('blue')\n",
    "barlist[2].set_color('g')\n",
    "plt.title('Coefficient of Variation')\n",
    "plt.ylabel('Coefficient of Variation')\n",
    "plt.savefig('coefficientofvariation')\n",
    "plt.show()"
   ]
  },
  {
   "cell_type": "code",
   "execution_count": null,
   "id": "4e363b5b",
   "metadata": {
    "id": "4e363b5b"
   },
   "outputs": [],
   "source": []
  }
 ],
 "metadata": {
  "colab": {
   "name": "Q Analysis of Spike Trains.ipynb",
   "provenance": []
  },
  "kernelspec": {
   "display_name": "sPyNNakerGit",
   "language": "python",
   "name": "spynnakergit"
  },
  "language_info": {
   "codemirror_mode": {
    "name": "ipython",
    "version": 3
   },
   "file_extension": ".py",
   "mimetype": "text/x-python",
   "name": "python",
   "nbconvert_exporter": "python",
   "pygments_lexer": "ipython3",
   "version": "3.8.5"
  }
 },
 "nbformat": 4,
 "nbformat_minor": 5
}
