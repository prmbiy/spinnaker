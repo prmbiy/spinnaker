{
 "cells": [
  {
   "cell_type": "code",
   "execution_count": 1,
   "id": "2b3172f8",
   "metadata": {},
   "outputs": [],
   "source": [
    "import spynnaker8 as p\n",
    "import matplotlib.pyplot as plt\n",
    "import pyNN.utility.plotting as plot"
   ]
  },
  {
   "cell_type": "code",
   "execution_count": 31,
   "id": "324deb4d",
   "metadata": {},
   "outputs": [
    {
     "name": "stderr",
     "output_type": "stream",
     "text": [
      "2021-07-07 23:09:13 INFO: Read cfg files: /home/bbpnrsoa/sPyNNakerGit/SpiNNFrontEndCommon/spinn_front_end_common/interface/spinnaker.cfg, /home/bbpnrsoa/sPyNNakerGit/sPyNNaker/spynnaker/pyNN/spynnaker.cfg, /home/bbpnrsoa/.spynnaker.cfg\n",
      "2021-07-07 23:09:13 INFO: Will search these locations for binaries: /home/bbpnrsoa/sPyNNakerGit/SpiNNFrontEndCommon/spinn_front_end_common/common_model_binaries : /home/bbpnrsoa/sPyNNakerGit/sPyNNaker/spynnaker/pyNN/model_binaries\n",
      "2021-07-07 23:09:13 WARNING: A timestep was entered that has forced sPyNNaker to automatically slow the simulation down from real time by a factor of 10. To remove this automatic behaviour, please enter a timescaleFactor value in your .spynnaker.cfg\n",
      "2021-07-07 23:09:13 INFO: Setting time scale factor to 10.\n",
      "2021-07-07 23:09:13 INFO: Setting machine time step to 100 micro-seconds.\n"
     ]
    },
    {
     "name": "stdout",
     "output_type": "stream",
     "text": [
      "['/home/bbpnrsoa/sPyNNakerGit/SpiNNFrontEndCommon/spinn_front_end_common/interface/spinnaker.cfg', '/home/bbpnrsoa/sPyNNakerGit/sPyNNaker/spynnaker/pyNN/spynnaker.cfg', '/home/bbpnrsoa/.spynnaker.cfg']\n"
     ]
    },
    {
     "data": {
      "text/plain": [
       "0"
      ]
     },
     "execution_count": 31,
     "metadata": {},
     "output_type": "execute_result"
    }
   ],
   "source": [
    "p.setup(0.1)"
   ]
  },
  {
   "cell_type": "code",
   "execution_count": 32,
   "id": "5624950d",
   "metadata": {},
   "outputs": [],
   "source": [
    "populations = []\n",
    "title = \"PyNN0.8 alpha synapse testing\"\n",
    "\n",
    "pop_src1 = p.Population(2, p.SpikeSourceArray,\n",
    "                        {'spike_times': [[5, 15, 20, 30],[10, 25]]}, label=\"src1\")\n",
    "\n",
    "populations.append(p.Population(2, p.IF_curr_alpha, {}, label=\"test\"))"
   ]
  },
  {
   "cell_type": "code",
   "execution_count": 33,
   "id": "ece5853b",
   "metadata": {},
   "outputs": [],
   "source": [
    "populations[0].set(tau_syn_E=2)\n",
    "populations[0].set(tau_syn_I=4)"
   ]
  },
  {
   "cell_type": "code",
   "execution_count": 35,
   "id": "36aa0c25",
   "metadata": {},
   "outputs": [
    {
     "data": {
      "text/plain": [
       "<spynnaker.pyNN.models.populations.population.Population at 0x7efd5abceeb0>"
      ]
     },
     "execution_count": 35,
     "metadata": {},
     "output_type": "execute_result"
    }
   ],
   "source": [
    "populations[0]"
   ]
  },
  {
   "cell_type": "code",
   "execution_count": 36,
   "id": "643e5e06",
   "metadata": {},
   "outputs": [],
   "source": [
    "exc_proj = p.Projection(pop_src1, populations[0],\n",
    "                        p.OneToOneConnector(),\n",
    "                        p.StaticSynapse(weight=10, delay=0),\n",
    "                        receptor_type=\"excitatory\")\n",
    "inh_proj = p.Projection(pop_src1, populations[0],\n",
    "                        p.OneToOneConnector(),\n",
    "                        p.StaticSynapse(weight=0.1, delay=10),\n",
    "                        receptor_type=\"inhibitory\")"
   ]
  },
  {
   "cell_type": "code",
   "execution_count": 37,
   "id": "03522a1f",
   "metadata": {},
   "outputs": [
    {
     "name": "stderr",
     "output_type": "stream",
     "text": [
      "2021-07-07 23:10:16 INFO: Starting execution process\n",
      "2021-07-07 23:10:16 INFO: Simulating for 500 0.1ms timesteps using a hardware timestep of 1000us\n",
      "Adding Splitter selectors where appropriate\n",
      "|0%                          50%                         100%|\n",
      " ============================================================\n",
      "2021-07-07 23:10:16 INFO: Time 0:00:00.007303 taken by SpynnakerSplitterSelector\n",
      "Adding delay extensions as required\n",
      "|0%                          50%                         100%|\n",
      " ============================================================\n",
      "2021-07-07 23:10:16 INFO: Time 0:00:00.005843 taken by DelaySupportAdder\n",
      "2021-07-07 23:10:20 INFO: Time 0:00:03.287264 taken by SpallocMaxMachineGenerator\n",
      "Preallocating resources for Extra Monitor support vertices\n",
      "|0%                          50%                         100%|\n",
      " ============================================================\n",
      "2021-07-07 23:10:28 INFO: Time 0:00:08.647922 taken by PreAllocateResourcesForExtraMonitorSupport\n",
      "Partitioning graph vertices\n",
      "|0%                          50%                         100%|\n",
      " ============================================================\n",
      "Partitioning graph edges\n",
      "|0%                          50%                         100%|\n",
      " ============================================================\n",
      "2021-07-07 23:10:33 INFO: Time 0:00:05.192303 taken by SpYNNakerSplitterPartitioner\n",
      "Created spalloc job 6033879\n",
      "2021-07-07 23:10:33 INFO: Created spalloc job 6033879\n",
      "Waiting for board power commands to complete.\n",
      "2021-07-07 23:10:34 INFO: Waiting for board power commands to complete.\n",
      "2021-07-07 23:10:39 INFO: Time 0:00:05.049538 taken by SpallocAllocator\n",
      "2021-07-07 23:10:39 INFO: Creating transceiver for 10.11.195.65\n",
      "2021-07-07 23:10:39 INFO: Working out if machine is booted\n",
      "2021-07-07 23:10:43 INFO: Attempting to boot machine\n",
      "2021-07-07 23:10:48 INFO: Found board with version [Version: SC&MP 3.4.1 at SpiNNaker:0:0:0 (built Thu Feb 11 15:36:44 2021)]\n",
      "2021-07-07 23:10:48 INFO: Machine communication successful\n",
      "2021-07-07 23:10:48 INFO: Detected a machine on IP address 10.11.195.65 which has 838 cores and 117.0 links\n",
      "2021-07-07 23:10:48 INFO: Time 0:00:09.932935 taken by MachineGenerator\n",
      "Generating partitioner report\n",
      "|0%                          50%                         100%|\n",
      " ============================================================\n",
      "2021-07-07 23:10:49 INFO: Time 0:00:00.012633 taken by PartitionerReport\n",
      "2021-07-07 23:10:49 INFO: Time 0:00:00.000253 taken by NetworkSpecificationReport\n",
      "Allocating virtual identifiers\n",
      "|0%                          50%                         100%|\n",
      " ============================================================\n",
      "2021-07-07 23:10:49 INFO: Time 0:00:00.048107 taken by MallocBasedChipIDAllocator\n",
      "Inserting extra monitors into graphs\n",
      "|0%                          50%                         100%|\n",
      " ============================================================\n",
      "2021-07-07 23:10:49 INFO: Time 0:00:00.033323 taken by InsertExtraMonitorVerticesToGraphs\n",
      "Writing the board chip report\n",
      "|0%                          50%                         100%|\n",
      " ============================================================\n",
      "2021-07-07 23:10:49 INFO: Time 0:00:00.003351 taken by BoardChipReport\n",
      "Getting number of keys required by each edge using application graph\n",
      "|0%                          50%                         100%|\n",
      " ============================================================\n",
      "2021-07-07 23:10:49 INFO: Time 0:00:00.021655 taken by EdgeToNKeysMapper\n",
      "2021-07-07 23:10:49 INFO: The time scale factor could be reduced to 4.9815\n",
      "2021-07-07 23:10:49 INFO: Time 0:00:00.000777 taken by LocalTDMABuilder\n",
      "Placing graph vertices via spreading over an entire machine\n",
      "|0%                          50%                         100%|\n",
      " ============================================================\n",
      "2021-07-07 23:10:49 INFO: Time 0:00:00.009794 taken by SpreaderPlacer\n",
      "Inserting edges between vertices which require FR speed up functionality.\n",
      "|0%                          50%                         100%|\n",
      " ==============================2021-07-07 23:10:49 INFO: Time 0:00:00.020572 taken by InsertEdgesToExtraMonitorFunctionality\n",
      "Generating routing tables for data in system processes\n",
      "|0%                          50%                         100%|\n",
      " ============================================================\n",
      "2021-07-07 23:10:49 INFO: Time 0:00:00.005474 taken by SystemMulticastRoutingGenerator\n",
      "Generating fixed router routes\n",
      "|0%                          50%                         100%|\n",
      " ============================================================\n",
      "2021-07-07 23:10:49 INFO: Time 0:00:00.004034 taken by FixedRouteRouter\n",
      "Generating placement report\n",
      "|0%                          50%                         100%|\n",
      " ============================================================\n",
      "Generating placement by core report\n",
      "|0%                          50%                         100%|\n",
      " ============================================================\n",
      "2021-07-07 23:10:49 INFO: Time 0:00:00.051865 taken by PlacerReportWithApplicationGraph\n",
      "Routing\n",
      "|0%                          50%                         100%|\n",
      " ============================================================\n",
      "\n",
      "2021-07-07 23:10:49 INFO: Time 0:00:00.024657 taken by NerRouteTrafficAware\n",
      "Discovering tags\n",
      "|0%                          50%                         100%|\n",
      " ============================================================\n",
      "Allocating tags\n",
      "|0%                          50%                         100%|\n",
      " ============================================================\n",
      "2021-07-07 23:10:49 INFO: Time 0:00:00.030964 taken by BasicTagAllocator\n",
      "Reporting Tags\n",
      "|0%                          50%                         100%|\n",
      " ============================================================\n",
      "2021-07-07 23:10:49 INFO: Time 0:00:00.036787 taken by TagReport\n",
      "Getting constraints for machine graph\n",
      "|0%                          50%                         100%|\n",
      " ============================================================\n",
      "2021-07-07 23:10:49 INFO: Time 0:00:00.027419 taken by ProcessPartitionConstraints\n",
      "Calculating zones\n",
      "|0%                          50%                         100%|\n",
      " ============================================================\n",
      "Allocating routing keys\n",
      "|0%                          50%                         100%|\n",
      " ============================================================\n",
      "2021-07-07 23:10:49 INFO: Time 0:00:00.019563 taken by ZonedRoutingInfoAllocator\n",
      "Generating Routing info report\n",
      "|0%                          50%                         100%|\n",
      " ============================================================\n",
      "2021-07-07 23:10:49 INFO: Time 0:00:00.010681 taken by routingInfoReports\n",
      "Generating routing tables\n",
      "|0%                          50%                         100%|\n",
      " ============================================================\n",
      "2021-07-07 23:10:49 INFO: Time 0:00:00.020703 taken by BasicRoutingTableGenerator\n",
      "2021-07-07 23:10:49 INFO: Time 0:00:00.000171 taken by RouterCollisionPotentialReport\n",
      "Finding executable start types\n",
      "|0%                          50%                         100%|\n",
      " ============================================================\n",
      "2021-07-07 23:10:49 INFO: Time 0:00:00.028465 taken by LocateExecutableStartType\n",
      "Initialising buffers\n",
      "|0%                          50%                         100%|\n",
      " ============================================================\n",
      "2021-07-07 23:10:49 INFO: Time 0:00:00.025915 taken by BufferManagerCreator\n",
      "Allocating SDRAM for SDRAM outgoing egde partitions\n",
      "|0%                          50%                         100%|\n",
      " ============================================================\n",
      "2021-07-07 23:10:49 INFO: Time 0:00:00.021894 taken by SDRAMOutgoingPartitionAllocator\n",
      "Generating data specifications\n",
      "|0%                          50%                         100%|\n",
      " ============================================================\n",
      "2021-07-07 23:10:49 INFO: Time 0:00:00.072180 taken by SpynnakerDataSpecificationWriter\n",
      "Preparing Routing Tables\n",
      "|0%                          50%                         100%|\n",
      " ============================================================\n",
      "2021-07-07 23:10:49 INFO: Time 0:00:00.014288 taken by RoutingSetup\n",
      "Finding binaries\n",
      "|0%                          50%                         100%|\n"
     ]
    },
    {
     "name": "stderr",
     "output_type": "stream",
     "text": [
      " ============================================================\n",
      "2021-07-07 23:10:49 INFO: Time 0:00:00.030698 taken by GraphBinaryGatherer\n",
      "Running pair routing table compression on chip\n",
      "|0%                          50%                         100%|\n",
      " ============================================================\n",
      "\n",
      "2021-07-07 23:10:53 INFO: Time 0:00:03.407783 taken by PairOnChipRouterCompression\n",
      "Generating Router table report\n",
      "|0%                          50%                         100%|\n",
      " ============================================================\n",
      "2021-07-07 23:10:53 INFO: Time 0:00:00.009429 taken by unCompressedRoutingTableReports\n",
      "loading fixed routes\n",
      "|0%                          50%                         100%|\n",
      " ============================================================\n",
      "2021-07-07 23:10:53 INFO: Time 0:00:00.044805 taken by LoadFixedRoutes\n",
      "Executing data specifications and loading data for system vertices using Java\n",
      "|0%                          50%                         100%|\n",
      " ============================================================\n",
      "2021-07-07 23:10:54 INFO: Time 0:00:01.103701 taken by HostExecuteSystemDataSpecification\n",
      "Loading system executables onto the machine\n",
      "|0%                          50%                         100%|\n",
      " ============================================================\n",
      "2021-07-07 23:11:00 INFO: Time 0:00:05.750961 taken by LoadSystemExecutableImages\n",
      "2021-07-07 23:11:00 INFO: Time 0:00:00.002007 taken by TagsFromMachineReport\n",
      "Clearing tags\n",
      "|0%                          50%                         100%|\n",
      " ============================================================\n",
      "Loading Tags\n",
      "|0%                          50%                         100%|\n",
      " ============================================================\n",
      "2021-07-07 23:11:00 INFO: Time 0:00:00.017657 taken by TagsLoader\n",
      "Executing data specifications and loading data for application vertices using Java\n",
      "|0%                          50%                         100%|\n",
      " ============================================================\n",
      "2021-07-07 23:11:01 INFO: Time 0:00:01.026412 taken by HostExecuteApplicationDataSpecification\n",
      "Preparing to Expand Synapses\n",
      "|0%                          50%                         100%|\n",
      " ============================================================\n",
      "Expanding Synapses\n",
      "|0%                          50%                         100%|\n",
      " ============================================================\n",
      "\n",
      "\n",
      "2021-07-07 23:11:08 INFO: Time 0:00:06.977693 taken by SynapseExpander\n",
      "Running bitfield generation on chip\n",
      "|0%                          50%                         100%|\n",
      " ============================================================\n",
      "\n",
      "\n",
      "2021-07-07 23:11:11 INFO: Time 0:00:03.227731 taken by OnChipBitFieldGenerator\n",
      "Finalising Retrieved Connections\n",
      "|0%                          50%                         100%|\n",
      " ============================================================\n",
      "2021-07-07 23:11:11 INFO: Time 0:00:00.024112 taken by FinishConnectionHolders\n",
      "Reading Routing Tables from Machine\n",
      "|0%                          50%                         100%|\n",
      " ============================================================\n",
      "2021-07-07 23:11:11 INFO: Time 0:00:00.019603 taken by ReadRoutingTablesFromMachine\n",
      "Generating compressed router table report\n",
      "|0%                          50%                         100%|\n",
      " ============================================================\n",
      "2021-07-07 23:11:11 INFO: Time 0:00:00.008765 taken by compressedRoutingTableReports\n",
      "Generating comparison of router table report\n",
      "|0%                          50%                         100%|\n",
      " ============================================================\n",
      "2021-07-07 23:11:11 INFO: Time 0:00:00.008720 taken by comparisonOfRoutingTablesReport\n",
      "Generating Routing summary report\n",
      "|0%                          50%                         100%|\n",
      " ============================================================\n",
      "2021-07-07 23:11:11 INFO: Time 0:00:00.024462 taken by CompressedRouterSummaryReport\n",
      "Reading Routing Tables from Machine\n",
      "|0%                          50%                         100%|\n",
      " ============================================================\n",
      "2021-07-07 23:11:11 INFO: Time 0:00:00.010571 taken by RoutingTableFromMachineReport\n",
      "Writing fixed route report\n",
      "|0%                          50%                         100%|\n",
      " ============================================================\n",
      "2021-07-07 23:11:11 INFO: Time 0:00:00.052891 taken by FixedRouteFromMachineReport\n",
      "Loading executables onto the machine\n",
      "|0%                          50%                         100%|\n",
      " ============================================================\n",
      "2021-07-07 23:11:21 INFO: Time 0:00:09.793833 taken by LoadApplicationExecutableImages\n",
      "2021-07-07 23:11:21 INFO: Running for 1 steps for a total of 50.0ms\n",
      "2021-07-07 23:11:21 INFO: Run 1 of 1\n",
      "Generating SDRAM usage report\n",
      "|0%                          50%                         100%|\n",
      " ============================================================\n",
      "2021-07-07 23:11:21 INFO: Time 0:00:00.075850 taken by SdramUsageReportPerChip\n",
      "2021-07-07 23:11:21 INFO: creating live event connection database in /home/bbpnrsoa/sPyNNakerGit/PyNN8Examples/examples/MyPractice/reports/2021-07-07-23-09-13-983583/run_1/input_output_database.db\n",
      "Creating graph description database\n",
      "|0%                          50%                         100%|\n",
      " ============================================================\n",
      "2021-07-07 23:11:21 INFO: Time 0:00:00.052444 taken by DatabaseInterface\n",
      "2021-07-07 23:11:21 INFO: ** Notifying external sources that the database is ready for reading **\n",
      "2021-07-07 23:11:21 INFO: Time 0:00:00.001345 taken by CreateNotificationProtocol\n",
      "Getting provenance data from machine graph\n",
      "|0%                          50%                         100%|\n",
      " ============================================================\n",
      "Getting provenance data from application graph\n",
      "|0%                          50%                         100%|\n",
      " ============================================================\n",
      "2021-07-07 23:11:21 INFO: Time 0:00:00.063985 taken by GraphProvenanceGatherer\n",
      "Waiting for cores to be either in PAUSED or READY state\n",
      "|0%                          50%                         100%|\n",
      " ============================================================\n",
      "Updating run time\n",
      "|0%                          50%                         100%|\n",
      " ============================================================\n",
      "2021-07-07 23:11:21 INFO: Time 0:00:00.038233 taken by ChipRuntimeUpdater\n",
      "2021-07-07 23:11:21 INFO: *** Running simulation... *** \n",
      "Loading buffers\n",
      "|0%                          50%                         100%|\n",
      " ============================================================\n",
      "2021-07-07 23:11:21 INFO: ** Awaiting for a response from an external source to state its ready for the simulation to start **\n",
      "2021-07-07 23:11:21 INFO: ** Sending start / resume message to external sources to state the simulation has started or resumed. **\n",
      "2021-07-07 23:11:21 INFO: ** Awaiting for a response from an external source to state its ready for the simulation to start **\n",
      "2021-07-07 23:11:21 INFO: Application started; waiting 0.6s for it to stop\n",
      "2021-07-07 23:11:22 INFO: ** Sending pause / stop message to external sources to state the simulation has been paused or stopped. **\n",
      "2021-07-07 23:11:22 INFO: Time 0:00:00.699130 taken by ApplicationRunner\n",
      "Extracting IOBUF from the machine\n",
      "|0%                          50%                         100%|\n",
      " ============================================================\n",
      "2021-07-07 23:11:22 INFO: Time 0:00:00.041535 taken by ChipIOBufExtractor\n",
      "clearing IOBUF from the machine\n",
      "|0%                          50%                         100%|\n",
      " ============================================================\n",
      "2021-07-07 23:11:22 INFO: Time 0:00:00.007213 taken by ChipIOBufClearer\n",
      "Extracting buffers from the last run\n",
      "|0%                          50%                         100%|\n",
      " ============================================================\n",
      "\n",
      "2021-07-07 23:11:23 INFO: Time 0:00:00.980937 taken by BufferExtractor\n",
      "2021-07-07 23:11:23 INFO: Time 0:00:00.000156 taken by FinaliseTimingData\n",
      "Getting provenance data\n",
      "|0%                          50%                         100%|\n"
     ]
    },
    {
     "name": "stderr",
     "output_type": "stream",
     "text": [
      " ============================================================\n",
      "2021-07-07 23:11:23 INFO: Time 0:00:00.037922 taken by PlacementsProvenanceGatherer\n",
      "2021-07-07 23:11:23 INFO: Time 0:00:00.000351 taken by RedundantPacketCountReport\n",
      "Getting Router Provenance\n",
      "|0%                          50%                         100%|\n",
      " ============================================================\n",
      "2021-07-07 23:11:23 INFO: Time 0:00:00.053658 taken by RouterProvenanceGatherer\n",
      "Getting profile data\n",
      "|0%                          50%                         100%|\n",
      " ============================================================\n",
      "2021-07-07 23:11:23 INFO: Time 0:00:00.029792 taken by ProfileDataGatherer\n"
     ]
    },
    {
     "data": {
      "text/plain": [
       "50.0"
      ]
     },
     "execution_count": 37,
     "metadata": {},
     "output_type": "execute_result"
    }
   ],
   "source": [
    "populations[0].record(\"all\")\n",
    "p.run(50)"
   ]
  },
  {
   "cell_type": "code",
   "execution_count": 38,
   "id": "6e5e2fd7",
   "metadata": {},
   "outputs": [
    {
     "name": "stderr",
     "output_type": "stream",
     "text": [
      "Getting v for test\n",
      "|0%                          50%                         100%|\n",
      " ============================================================\n",
      "Getting gsyn_exc for test\n",
      "|0%                          50%                         100%|\n",
      " ============================================================\n",
      "Getting gsyn_inh for test\n",
      "|0%                          50%                         100%|\n",
      " ============================================================\n",
      "Getting spikes for test\n",
      "|0%                          50%                         100%|\n",
      " ============================================================\n"
     ]
    }
   ],
   "source": [
    "v = populations[0].get_data(\"v\")\n",
    "gsyn_exc = populations[0].get_data(\"gsyn_exc\")\n",
    "gsyn_inh = populations[0].get_data(\"gsyn_inh\")\n",
    "spikes = populations[0].get_data(\"spikes\")"
   ]
  },
  {
   "cell_type": "code",
   "execution_count": 53,
   "id": "95b12ef5",
   "metadata": {},
   "outputs": [
    {
     "data": {
      "application/vnd.jupyter.widget-view+json": {
       "model_id": "24b82a695dfa4d32959c4f039ffc74a1",
       "version_major": 2,
       "version_minor": 0
      },
      "text/plain": [
       "Canvas(toolbar=Toolbar(toolitems=[('Home', 'Reset original view', 'home', 'home'), ('Back', 'Back to previous …"
      ]
     },
     "metadata": {},
     "output_type": "display_data"
    }
   ],
   "source": [
    "plot.Figure(\n",
    "    plot.Panel(v.segments[0].filter(name='v')[0],\n",
    "               ylabel=\"Membrane potential (mV)\",\n",
    "               xlabel=\"time\",xticks = True,\n",
    "               data_labels=[populations[0].label],\n",
    "               yticks=True, xlim=(0, 50)),\n",
    "    plot.Panel(gsyn_exc.segments[0].filter(name='gsyn_exc')[0],\n",
    "               ylabel=\"gsyn excitatory (mV)\",\n",
    "               xlabel=\"time\",xticks = True,\n",
    "               data_labels=[populations[0].label],\n",
    "               yticks=True, xlim=(0, 50)),\n",
    "    plot.Panel(gsyn_inh.segments[0].filter(name='gsyn_inh')[0],\n",
    "               ylabel=\"gsyn inhibitory (mV)\",\n",
    "               xlabel=\"time\",xticks = True,\n",
    "               data_labels=[populations[0].label],\n",
    "               yticks=True, xlim=(0, 50)),\n",
    "    title=title,\n",
    "    annotations=\"Simulated with {}\".format(p.name())\n",
    ")\n",
    "plt.grid(axis = 'x')\n",
    "plt.show()"
   ]
  },
  {
   "cell_type": "code",
   "execution_count": 52,
   "id": "5525aef6",
   "metadata": {},
   "outputs": [],
   "source": [
    "plt.close()"
   ]
  },
  {
   "cell_type": "code",
   "execution_count": null,
   "id": "81f98424",
   "metadata": {},
   "outputs": [],
   "source": []
  },
  {
   "cell_type": "code",
   "execution_count": 54,
   "id": "385a4219",
   "metadata": {},
   "outputs": [],
   "source": [
    "p.end()"
   ]
  },
  {
   "cell_type": "code",
   "execution_count": null,
   "id": "700fc926",
   "metadata": {},
   "outputs": [],
   "source": []
  }
 ],
 "metadata": {
  "kernelspec": {
   "display_name": "sPyNNakerGit",
   "language": "python",
   "name": "spynnakergit"
  },
  "language_info": {
   "codemirror_mode": {
    "name": "ipython",
    "version": 3
   },
   "file_extension": ".py",
   "mimetype": "text/x-python",
   "name": "python",
   "nbconvert_exporter": "python",
   "pygments_lexer": "ipython3",
   "version": "3.8.5"
  }
 },
 "nbformat": 4,
 "nbformat_minor": 5
}
