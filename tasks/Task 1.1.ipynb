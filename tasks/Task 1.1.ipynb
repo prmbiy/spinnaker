{
 "cells": [
  {
   "cell_type": "code",
   "execution_count": 1,
   "id": "0292f11e",
   "metadata": {},
   "outputs": [],
   "source": [
    "import spynnaker8 as sim\n",
    "from pyNN.utility.plotting import Figure, Panel\n",
    "import matplotlib.pyplot as plt"
   ]
  },
  {
   "cell_type": "code",
   "execution_count": 2,
   "id": "c6aafe9f",
   "metadata": {},
   "outputs": [
    {
     "name": "stderr",
     "output_type": "stream",
     "text": [
      "2021-07-08 15:08:20 INFO: Read cfg files: /home/bbpnrsoa/sPyNNakerGit/SpiNNFrontEndCommon/spinn_front_end_common/interface/spinnaker.cfg, /home/bbpnrsoa/sPyNNakerGit/sPyNNaker/spynnaker/pyNN/spynnaker.cfg, /home/bbpnrsoa/.spynnaker.cfg\n",
      "2021-07-08 15:08:20 INFO: Will search these locations for binaries: /home/bbpnrsoa/sPyNNakerGit/SpiNNFrontEndCommon/spinn_front_end_common/common_model_binaries : /home/bbpnrsoa/sPyNNakerGit/sPyNNaker/spynnaker/pyNN/model_binaries\n",
      "2021-07-08 15:08:20 INFO: Setting time scale factor to 1.\n",
      "2021-07-08 15:08:20 INFO: Setting machine time step to 1000 micro-seconds.\n"
     ]
    },
    {
     "name": "stdout",
     "output_type": "stream",
     "text": [
      "['/home/bbpnrsoa/sPyNNakerGit/SpiNNFrontEndCommon/spinn_front_end_common/interface/spinnaker.cfg', '/home/bbpnrsoa/sPyNNakerGit/sPyNNaker/spynnaker/pyNN/spynnaker.cfg', '/home/bbpnrsoa/.spynnaker.cfg']\n"
     ]
    },
    {
     "data": {
      "text/plain": [
       "0"
      ]
     },
     "execution_count": 2,
     "metadata": {},
     "output_type": "execute_result"
    }
   ],
   "source": [
    "sim.setup(timestep=1.0, min_delay=1.0)"
   ]
  },
  {
   "cell_type": "code",
   "execution_count": 3,
   "id": "11d6887b",
   "metadata": {},
   "outputs": [],
   "source": [
    "model = sim.IF_curr_exp"
   ]
  },
  {
   "cell_type": "code",
   "execution_count": 4,
   "id": "9117898d",
   "metadata": {},
   "outputs": [],
   "source": [
    "pre_n = sim.Population(1, model, label = \"pre\")\n",
    "post_n = sim.Population(1, model, label = \"post\")\n",
    "\n",
    "source1 = sim.Population(1, sim.SpikeSourceArray, {'spike_times': [[5,  8, 11, 15, 120]]}, label=\"src1\")\n",
    "source2 = sim.Population(1, sim.SpikeSourceArray, {'spike_times': [[7, 10, 13, 17]]}, label=\"src2\")"
   ]
  },
  {
   "cell_type": "code",
   "execution_count": 5,
   "id": "800dd0c2",
   "metadata": {},
   "outputs": [
    {
     "data": {
      "text/plain": [
       "projection from pre src2 to post post with connector OneToOneConnector()"
      ]
     },
     "execution_count": 5,
     "metadata": {},
     "output_type": "execute_result"
    }
   ],
   "source": [
    "sim.Projection(source1, pre_n, sim.OneToOneConnector(), sim.StaticSynapse(weight=10, delay=0))\n",
    "sim.Projection(source2, post_n, sim.OneToOneConnector(), sim.StaticSynapse(weight=10, delay=0))"
   ]
  },
  {
   "cell_type": "code",
   "execution_count": 6,
   "id": "d02a5722",
   "metadata": {},
   "outputs": [
    {
     "data": {
      "text/plain": [
       "projection from pre pre to post post with connector OneToOneConnector()"
      ]
     },
     "execution_count": 6,
     "metadata": {},
     "output_type": "execute_result"
    }
   ],
   "source": [
    "timing_rule = sim.SpikePairRule(tau_plus = 20, tau_minus = 20, A_plus = 0.5, A_minus = 0.5)\n",
    "weight_rule = sim.AdditiveWeightDependence(w_max = 5, w_min = 0)\n",
    "\n",
    "stdp_model = sim.STDPMechanism(timing_dependence=timing_rule, weight_dependence=weight_rule, weight=0.0, delay=5.0)\n",
    "sim.Projection(pre_n, post_n, sim.OneToOneConnector(), synapse_type=stdp_model)"
   ]
  },
  {
   "cell_type": "code",
   "execution_count": 7,
   "id": "901488d6",
   "metadata": {},
   "outputs": [],
   "source": [
    "pre_n.record(['v', 'spikes'])\n",
    "post_n.record(['v', 'spikes'])"
   ]
  },
  {
   "cell_type": "code",
   "execution_count": 8,
   "id": "02c31ab8",
   "metadata": {},
   "outputs": [
    {
     "name": "stderr",
     "output_type": "stream",
     "text": [
      "2021-07-08 15:08:34 INFO: Starting execution process\n",
      "2021-07-08 15:08:34 INFO: Simulating for 150 1.0ms timesteps using a hardware timestep of 1000us\n",
      "Adding Splitter selectors where appropriate\n",
      "|0%                          50%                         100%|\n",
      " ============================================================\n",
      "2021-07-08 15:08:34 INFO: Time 0:00:00.009935 taken by SpynnakerSplitterSelector\n",
      "Adding delay extensions as required\n",
      "|0%                          50%                         100%|\n",
      " ============================================================\n",
      "2021-07-08 15:08:34 INFO: Time 0:00:00.009172 taken by DelaySupportAdder\n",
      "2021-07-08 15:08:37 INFO: Time 0:00:03.010665 taken by SpallocMaxMachineGenerator\n",
      "Preallocating resources for Extra Monitor support vertices\n",
      "|0%                          50%                         100%|\n",
      " ============================================================\n",
      "2021-07-08 15:08:45 INFO: Time 0:00:08.297322 taken by PreAllocateResourcesForExtraMonitorSupport\n",
      "Partitioning graph vertices\n",
      "|0%                          50%                         100%|\n",
      " ============================================================\n",
      "Partitioning graph edges\n",
      "|0%                          50%                         100%|\n",
      " ============================================================\n",
      "2021-07-08 15:08:51 INFO: Time 0:00:05.416107 taken by SpYNNakerSplitterPartitioner\n",
      "Created spalloc job 6035047\n",
      "2021-07-08 15:08:51 INFO: Created spalloc job 6035047\n",
      "Waiting for board power commands to complete.\n",
      "2021-07-08 15:08:51 INFO: Waiting for board power commands to complete.\n",
      "2021-07-08 15:08:56 INFO: Time 0:00:05.051294 taken by SpallocAllocator\n",
      "2021-07-08 15:08:56 INFO: Creating transceiver for 10.11.196.9\n",
      "2021-07-08 15:08:56 INFO: Working out if machine is booted\n",
      "2021-07-08 15:09:00 INFO: Attempting to boot machine\n",
      "2021-07-08 15:09:06 INFO: Found board with version [Version: SC&MP 3.4.1 at SpiNNaker:0:0:0 (built Thu Feb 11 15:36:44 2021)]\n",
      "2021-07-08 15:09:06 INFO: Machine communication successful\n",
      "2021-07-08 15:09:06 INFO: Detected a machine on IP address 10.11.196.9 which has 856 cores and 120.0 links\n",
      "2021-07-08 15:09:06 INFO: Time 0:00:09.933047 taken by MachineGenerator\n",
      "Generating partitioner report\n",
      "|0%                          50%                         100%|\n",
      " ============================================================\n",
      "2021-07-08 15:09:06 INFO: Time 0:00:00.011692 taken by PartitionerReport\n",
      "2021-07-08 15:09:06 INFO: Time 0:00:00.000390 taken by NetworkSpecificationReport\n",
      "Allocating virtual identifiers\n",
      "|0%                          50%                         100%|\n",
      " ============================================================\n",
      "2021-07-08 15:09:06 INFO: Time 0:00:00.025729 taken by MallocBasedChipIDAllocator\n",
      "Inserting extra monitors into graphs\n",
      "|0%                          50%                         100%|\n",
      " ============================================================\n",
      "2021-07-08 15:09:06 INFO: Time 0:00:00.029370 taken by InsertExtraMonitorVerticesToGraphs\n",
      "Writing the board chip report\n",
      "|0%                          50%                         100%|\n",
      " ============================================================\n",
      "2021-07-08 15:09:06 INFO: Time 0:00:00.013190 taken by BoardChipReport\n",
      "Getting number of keys required by each edge using application graph\n",
      "|0%                          50%                         100%|\n",
      " ============================================================\n",
      "2021-07-08 15:09:06 INFO: Time 0:00:00.036777 taken by EdgeToNKeysMapper\n",
      "2021-07-08 15:09:06 INFO: The time scale factor could be reduced to 0.498125\n",
      "2021-07-08 15:09:06 INFO: Time 0:00:00.000945 taken by LocalTDMABuilder\n",
      "Placing graph vertices via spreading over an entire machine\n",
      "|0%                          50%                         100%|\n",
      " ============================================================\n",
      "2021-07-08 15:09:06 INFO: Time 0:00:00.016706 taken by SpreaderPlacer\n",
      "Inserting edges between vertices which require FR speed up functionality.\n",
      "|0%                          50%                         100%|\n",
      " ==============================2021-07-08 15:09:06 INFO: Time 0:00:00.026555 taken by InsertEdgesToExtraMonitorFunctionality\n",
      "Generating routing tables for data in system processes\n",
      "|0%                          50%                         100%|\n",
      " ============================================================\n",
      "2021-07-08 15:09:06 INFO: Time 0:00:00.010875 taken by SystemMulticastRoutingGenerator\n",
      "Generating fixed router routes\n",
      "|0%                          50%                         100%|\n",
      " ============================================================\n",
      "2021-07-08 15:09:06 INFO: Time 0:00:00.009044 taken by FixedRouteRouter\n",
      "Generating placement report\n",
      "|0%                          50%                         100%|\n",
      " ============================================================\n",
      "Generating placement by core report\n",
      "|0%                          50%                         100%|\n",
      " ============================================================\n",
      "2021-07-08 15:09:06 INFO: Time 0:00:00.063690 taken by PlacerReportWithApplicationGraph\n",
      "Routing\n",
      "|0%                          50%                         100%|\n",
      " ============================================================\n",
      "\n",
      "2021-07-08 15:09:06 INFO: Time 0:00:00.033415 taken by NerRouteTrafficAware\n",
      "Discovering tags\n",
      "|0%                          50%                         100%|\n",
      " ============================================================\n",
      "Allocating tags\n",
      "|0%                          50%                         100%|\n",
      " ============================================================\n",
      "2021-07-08 15:09:06 INFO: Time 0:00:00.042125 taken by BasicTagAllocator\n",
      "Reporting Tags\n",
      "|0%                          50%                         100%|\n",
      " ============================================================\n",
      "2021-07-08 15:09:06 INFO: Time 0:00:00.009899 taken by TagReport\n",
      "Getting constraints for machine graph\n",
      "|0%                          50%                         100%|\n",
      " ============================================================\n",
      "2021-07-08 15:09:06 INFO: Time 0:00:00.030528 taken by ProcessPartitionConstraints\n",
      "Calculating zones\n",
      "|0%                          50%                         100%|\n",
      " ============================================================\n",
      "Allocating routing keys\n",
      "|0%                          50%                         100%|\n",
      " ============================================================\n",
      "2021-07-08 15:09:06 INFO: Time 0:00:00.020666 taken by ZonedRoutingInfoAllocator\n",
      "Generating Routing info report\n",
      "|0%                          50%                         100%|\n",
      " ============================================================\n",
      "2021-07-08 15:09:06 INFO: Time 0:00:00.012388 taken by routingInfoReports\n",
      "Generating routing tables\n",
      "|0%                          50%                         100%|\n",
      " ============================================================\n",
      "2021-07-08 15:09:06 INFO: Time 0:00:00.028795 taken by BasicRoutingTableGenerator\n",
      "2021-07-08 15:09:06 INFO: Time 0:00:00.000414 taken by RouterCollisionPotentialReport\n",
      "Finding executable start types\n",
      "|0%                          50%                         100%|\n",
      " ============================================================\n",
      "2021-07-08 15:09:06 INFO: Time 0:00:00.033324 taken by LocateExecutableStartType\n",
      "Initialising buffers\n",
      "|0%                          50%                         100%|\n",
      " ============================================================\n",
      "2021-07-08 15:09:06 INFO: Time 0:00:00.034253 taken by BufferManagerCreator\n",
      "Allocating SDRAM for SDRAM outgoing egde partitions\n",
      "|0%                          50%                         100%|\n",
      " ============================================================\n",
      "2021-07-08 15:09:06 INFO: Time 0:00:00.025076 taken by SDRAMOutgoingPartitionAllocator\n",
      "Generating data specifications\n",
      "|0%                          50%                         100%|\n",
      " ============================================================\n",
      "2021-07-08 15:09:06 INFO: Time 0:00:00.076873 taken by SpynnakerDataSpecificationWriter\n",
      "Preparing Routing Tables\n",
      "|0%                          50%                         100%|\n",
      " ============================================================\n",
      "2021-07-08 15:09:06 INFO: Time 0:00:00.014620 taken by RoutingSetup\n",
      "Finding binaries\n",
      "|0%                          50%                         100%|\n"
     ]
    },
    {
     "name": "stderr",
     "output_type": "stream",
     "text": [
      " ============================================================\n",
      "2021-07-08 15:09:06 INFO: Time 0:00:00.031721 taken by GraphBinaryGatherer\n",
      "Running pair routing table compression on chip\n",
      "|0%                          50%                         100%|\n",
      " ============================================================\n",
      "\n",
      "2021-07-08 15:09:10 INFO: Time 0:00:03.413759 taken by PairOnChipRouterCompression\n",
      "Generating Router table report\n",
      "|0%                          50%                         100%|\n",
      " ============================================================\n",
      "2021-07-08 15:09:10 INFO: Time 0:00:00.011033 taken by unCompressedRoutingTableReports\n",
      "loading fixed routes\n",
      "|0%                          50%                         100%|\n",
      " ============================================================\n",
      "2021-07-08 15:09:10 INFO: Time 0:00:00.043008 taken by LoadFixedRoutes\n",
      "Executing data specifications and loading data for system vertices using Java\n",
      "|0%                          50%                         100%|\n",
      " ============================================================\n",
      "2021-07-08 15:09:11 INFO: Time 0:00:01.147836 taken by HostExecuteSystemDataSpecification\n",
      "Loading system executables onto the machine\n",
      "|0%                          50%                         100%|\n",
      " ============================================================\n",
      "2021-07-08 15:09:17 INFO: Time 0:00:05.756550 taken by LoadSystemExecutableImages\n",
      "2021-07-08 15:09:17 INFO: Time 0:00:00.001668 taken by TagsFromMachineReport\n",
      "Clearing tags\n",
      "|0%                          50%                         100%|\n",
      " ============================================================\n",
      "Loading Tags\n",
      "|0%                          50%                         100%|\n",
      " ============================================================\n",
      "2021-07-08 15:09:17 INFO: Time 0:00:00.022256 taken by TagsLoader\n",
      "Executing data specifications and loading data for application vertices using Java\n",
      "|0%                          50%                         100%|\n",
      " ============================================================\n",
      "2021-07-08 15:09:18 INFO: Time 0:00:01.086881 taken by HostExecuteApplicationDataSpecification\n",
      "Preparing to Expand Synapses\n",
      "|0%                          50%                         100%|\n",
      " ============================================================\n",
      "Expanding Synapses\n",
      "|0%                          50%                         100%|\n",
      " ============================================================\n",
      "\n",
      "\n",
      "2021-07-08 15:09:22 INFO: Time 0:00:03.887481 taken by SynapseExpander\n",
      "Running bitfield generation on chip\n",
      "|0%                          50%                         100%|\n",
      " ============================================================\n",
      "\n",
      "\n",
      "2021-07-08 15:09:25 INFO: Time 0:00:03.218527 taken by OnChipBitFieldGenerator\n",
      "Finalising Retrieved Connections\n",
      "|0%                          50%                         100%|\n",
      " ============================================================\n",
      "2021-07-08 15:09:25 INFO: Time 0:00:00.028348 taken by FinishConnectionHolders\n",
      "Reading Routing Tables from Machine\n",
      "|0%                          50%                         100%|\n",
      " ============================================================\n",
      "2021-07-08 15:09:25 INFO: Time 0:00:00.024528 taken by ReadRoutingTablesFromMachine\n",
      "Generating compressed router table report\n",
      "|0%                          50%                         100%|\n",
      " ============================================================\n",
      "2021-07-08 15:09:25 INFO: Time 0:00:00.012811 taken by compressedRoutingTableReports\n",
      "Generating comparison of router table report\n",
      "|0%                          50%                         100%|\n",
      " ============================================================\n",
      "2021-07-08 15:09:25 INFO: Time 0:00:00.009331 taken by comparisonOfRoutingTablesReport\n",
      "Generating Routing summary report\n",
      "|0%                          50%                         100%|\n",
      " ============================================================\n",
      "2021-07-08 15:09:25 INFO: Time 0:00:00.025099 taken by CompressedRouterSummaryReport\n",
      "Reading Routing Tables from Machine\n",
      "|0%                          50%                         100%|\n",
      " ============================================================\n",
      "2021-07-08 15:09:25 INFO: Time 0:00:00.019578 taken by RoutingTableFromMachineReport\n",
      "Writing fixed route report\n",
      "|0%                          50%                         100%|\n",
      " ============================================================\n",
      "2021-07-08 15:09:25 INFO: Time 0:00:00.046274 taken by FixedRouteFromMachineReport\n",
      "Loading executables onto the machine\n",
      "|0%                          50%                         100%|\n",
      " ============================================================\n",
      "2021-07-08 15:09:36 INFO: Time 0:00:10.491434 taken by LoadApplicationExecutableImages\n",
      "2021-07-08 15:09:36 INFO: Running for 1 steps for a total of 150.0ms\n",
      "2021-07-08 15:09:36 INFO: Run 1 of 1\n",
      "Generating SDRAM usage report\n",
      "|0%                          50%                         100%|\n",
      " ============================================================\n",
      "2021-07-08 15:09:36 INFO: Time 0:00:00.041645 taken by SdramUsageReportPerChip\n",
      "2021-07-08 15:09:36 INFO: creating live event connection database in /home/bbpnrsoa/sPyNNakerGit/PyNN8Examples/examples/MyPractice/Tasks/reports/2021-07-08-15-08-20-151857/run_1/input_output_database.db\n",
      "Creating graph description database\n",
      "|0%                          50%                         100%|\n",
      " ============================================================\n",
      "2021-07-08 15:09:36 INFO: Time 0:00:00.049197 taken by DatabaseInterface\n",
      "2021-07-08 15:09:36 INFO: ** Notifying external sources that the database is ready for reading **\n",
      "2021-07-08 15:09:36 INFO: Time 0:00:00.002059 taken by CreateNotificationProtocol\n",
      "Getting provenance data from machine graph\n",
      "|0%                          50%                         100%|\n",
      " ============================================================\n",
      "Getting provenance data from application graph\n",
      "|0%                          50%                         100%|\n",
      " ============================================================\n",
      "2021-07-08 15:09:36 INFO: Time 0:00:00.080057 taken by GraphProvenanceGatherer\n",
      "Waiting for cores to be either in PAUSED or READY state\n",
      "|0%                          50%                         100%|\n",
      " ============================================================\n",
      "Updating run time\n",
      "|0%                          50%                         100%|\n",
      " ============================================================\n",
      "2021-07-08 15:09:36 INFO: Time 0:00:00.037628 taken by ChipRuntimeUpdater\n",
      "2021-07-08 15:09:36 INFO: *** Running simulation... *** \n",
      "Loading buffers\n",
      "|0%                          50%                         100%|\n",
      " ============================================================\n",
      "2021-07-08 15:09:36 INFO: ** Awaiting for a response from an external source to state its ready for the simulation to start **\n",
      "2021-07-08 15:09:36 INFO: ** Sending start / resume message to external sources to state the simulation has started or resumed. **\n",
      "2021-07-08 15:09:36 INFO: ** Awaiting for a response from an external source to state its ready for the simulation to start **\n",
      "2021-07-08 15:09:36 INFO: Application started; waiting 0.25s for it to stop\n",
      "2021-07-08 15:09:36 INFO: ** Sending pause / stop message to external sources to state the simulation has been paused or stopped. **\n",
      "2021-07-08 15:09:36 INFO: Time 0:00:00.355777 taken by ApplicationRunner\n",
      "Extracting IOBUF from the machine\n",
      "|0%                          50%                         100%|\n",
      " ============================================================\n",
      "2021-07-08 15:09:37 INFO: Time 0:00:01.048186 taken by ChipIOBufExtractor\n",
      "clearing IOBUF from the machine\n",
      "|0%                          50%                         100%|\n",
      " ============================================================\n",
      "2021-07-08 15:09:37 INFO: Time 0:00:00.010305 taken by ChipIOBufClearer\n",
      "Extracting buffers from the last run\n",
      "|0%                          50%                         100%|\n",
      " ============================================================\n",
      "\n",
      "2021-07-08 15:09:38 INFO: Time 0:00:00.961862 taken by BufferExtractor\n",
      "2021-07-08 15:09:38 INFO: Time 0:00:00.000158 taken by FinaliseTimingData\n",
      "Getting provenance data\n",
      "|0%                          50%                         100%|\n"
     ]
    },
    {
     "name": "stderr",
     "output_type": "stream",
     "text": [
      " ============================================================\n",
      "2021-07-08 15:09:38 INFO: Time 0:00:00.032573 taken by PlacementsProvenanceGatherer\n",
      "2021-07-08 15:09:38 INFO: Time 0:00:00.001190 taken by RedundantPacketCountReport\n",
      "Getting Router Provenance\n",
      "|0%                          50%                         100%|\n",
      " ============================================================\n",
      "2021-07-08 15:09:38 INFO: Time 0:00:00.058378 taken by RouterProvenanceGatherer\n",
      "Getting profile data\n",
      "|0%                          50%                         100%|\n",
      " ============================================================\n",
      "2021-07-08 15:09:38 INFO: Time 0:00:00.024102 taken by ProfileDataGatherer\n"
     ]
    },
    {
     "data": {
      "text/plain": [
       "150.0"
      ]
     },
     "execution_count": 8,
     "metadata": {},
     "output_type": "execute_result"
    }
   ],
   "source": [
    "sim.run(150)"
   ]
  },
  {
   "cell_type": "code",
   "execution_count": 9,
   "id": "e91f6463",
   "metadata": {},
   "outputs": [
    {
     "name": "stderr",
     "output_type": "stream",
     "text": [
      "Getting spikes for pre\n",
      "|0%                          50%                         100%|\n",
      " ============================================================\n",
      "Getting spikes for post\n",
      "|0%                          50%                         100%|\n",
      " ============================================================\n"
     ]
    }
   ],
   "source": [
    "pre_spikes = pre_n.get_data('spikes')\n",
    "post_spikes = post_n.get_data('spikes')\n"
   ]
  },
  {
   "cell_type": "code",
   "execution_count": 10,
   "id": "03ae71d0",
   "metadata": {},
   "outputs": [
    {
     "data": {
      "application/vnd.jupyter.widget-view+json": {
       "model_id": "4115e58919604aa983799988940e67e1",
       "version_major": 2,
       "version_minor": 0
      },
      "text/plain": [
       "Canvas(toolbar=Toolbar(toolitems=[('Home', 'Reset original view', 'home', 'home'), ('Back', 'Back to previous …"
      ]
     },
     "metadata": {},
     "output_type": "display_data"
    },
    {
     "name": "stderr",
     "output_type": "stream",
     "text": [
      "/home/bbpnrsoa/sPyNNakerGit/lib/python3.8/site-packages/pyNN/utility/plotting.py:106: UserWarning: color is redundantly defined by the 'color' keyword argument and the fmt string \"k.\" (-> color='k'). The keyword argument will take precedence.\n",
      "  ax.plot(spiketrain,\n",
      "/home/bbpnrsoa/sPyNNakerGit/lib/python3.8/site-packages/pyNN/utility/plotting.py:106: UserWarning: color is redundantly defined by the 'color' keyword argument and the fmt string \"k.\" (-> color='k'). The keyword argument will take precedence.\n",
      "  ax.plot(spiketrain,\n"
     ]
    }
   ],
   "source": [
    "Figure(\n",
    "    Panel(pre_spikes.segments[0].spiketrains,\n",
    "          yticks=True, markersize=2.0, xlim=(0, 150), color=\"red\",\n",
    "          ylabel=\"Pre-Population\"),\n",
    "    Panel(post_spikes.segments[0].spiketrains,\n",
    "          yticks=True, xticks=True, markersize=2.0,\n",
    "          xlim=(0, 150), color=\"blue\", ylabel=\"Post-Population\"),\n",
    "    title=\"Excitatory synaptic conductance (mS) and spike raster plots\",\n",
    "    annotations=\"Simulated with {}\".format(sim.name())\n",
    ")\n",
    "plt.show()"
   ]
  },
  {
   "cell_type": "code",
   "execution_count": 11,
   "id": "24996b9d",
   "metadata": {},
   "outputs": [],
   "source": [
    "plt.close()"
   ]
  },
  {
   "cell_type": "code",
   "execution_count": 12,
   "id": "dc8264f5",
   "metadata": {},
   "outputs": [
    {
     "name": "stderr",
     "output_type": "stream",
     "text": [
      "2021-07-08 15:11:14 WARNING: The delays in the connector OneToOneConnector from src1 to pre was clipped to 1.0 a total of 1 times.  This can be avoided by reducing the timestep or increasing the minimum delay to one timestep\n",
      "2021-07-08 15:11:14 WARNING: The delays in the connector OneToOneConnector from src2 to post was clipped to 1.0 a total of 1 times.  This can be avoided by reducing the timestep or increasing the minimum delay to one timestep\n"
     ]
    }
   ],
   "source": [
    "sim.end()"
   ]
  }
 ],
 "metadata": {
  "kernelspec": {
   "display_name": "sPyNNakerGit",
   "language": "python",
   "name": "spynnakergit"
  },
  "language_info": {
   "codemirror_mode": {
    "name": "ipython",
    "version": 3
   },
   "file_extension": ".py",
   "mimetype": "text/x-python",
   "name": "python",
   "nbconvert_exporter": "python",
   "pygments_lexer": "ipython3",
   "version": "3.8.5"
  }
 },
 "nbformat": 4,
 "nbformat_minor": 5
}
